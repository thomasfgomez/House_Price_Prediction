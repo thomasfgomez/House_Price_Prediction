{
 "cells": [
  {
   "cell_type": "markdown",
   "id": "94c9ee93",
   "metadata": {},
   "source": [
    "# *House Price Prediction - Properatti*\n",
    "\n",
    " _Authors:_ \n",
    "\n",
    "- Pedro Terrado\n",
    "- Segundo Rodriguez Parodi\n",
    "- Pedro Roisman\n",
    "- Thomas Gomez"
   ]
  },
  {
   "cell_type": "markdown",
   "id": "d2494ddd",
   "metadata": {},
   "source": [
    "_Dataset Info_\n",
    "\n",
    "- operation (sell)\n",
    "- property_type (apartment, ph, house)\n",
    "- place_name     \n",
    "- place_with_parent_names \n",
    "- country_name             \n",
    "- state_name               \n",
    "- geonames_id (not all available)             \n",
    "- lat-lon                  \n",
    "- lat                   \n",
    "- lon                   \n",
    "- price                 \n",
    "- currency (ARS, USD)             \n",
    "- price_aprox_local_currency \n",
    "- price_aprox_usd            \n",
    "- surface_total_in_m2        \n",
    "- surface_covered_in_m2      \n",
    "- price_usd_per_m2           \n",
    "- price_per_m2               \n",
    "- floor                      \n",
    "- rooms                      \n",
    "- expenses                  \n",
    "- properati_url             \n",
    "- description               \n",
    "- title                     \n",
    "\n",
    "\n",
    "#### [1 - Dataset Preparation](#section_preparacion)\n",
    "\n",
    "#### [2 - Data Wrangling](#section_datawrangling)\n",
    "\n",
    "#### [3 - New Features](#section_nuevasvariables)\n",
    "\n",
    "#### [4 - Cleaning Outliers](#section_outliers)\n",
    "\n",
    "#### [5 - Final Dataset](#section_datasetfinal)\n",
    "\n",
    "\n",
    "----"
   ]
  },
  {
   "cell_type": "markdown",
   "id": "44fc1916",
   "metadata": {},
   "source": [
    "# [1 - Dataset Preparation](#section_preparacion)\n",
    "\n",
    "#### $\\hspace{.5cm}$[1.1 - Import libraries and load the dataset](#seccion_import)\n",
    "\n",
    "#### $\\hspace{.5cm}$[1.2 - Description of the dataset and null values](#seccion_description)\n",
    "\n",
    "#### $\\hspace{.5cm}$[1.3 - Features selection ](#seccion_features)"
   ]
  },
  {
   "cell_type": "markdown",
   "id": "a905be44",
   "metadata": {},
   "source": [
    "## [1.1 - Import libraries and load the dataset](#seccion_import)"
   ]
  },
  {
   "cell_type": "code",
   "execution_count": 1,
   "id": "ee558d13",
   "metadata": {},
   "outputs": [],
   "source": [
    "import pandas as pd \n",
    "import numpy as np \n",
    "import matplotlib.pyplot as plt\n",
    "import seaborn as sns \n",
    "%matplotlib inline"
   ]
  },
  {
   "cell_type": "code",
   "execution_count": 2,
   "id": "a4c77a57",
   "metadata": {},
   "outputs": [],
   "source": [
    "# Reading the data and creating a DataFrame\n",
    "\n",
    "data = pd.read_csv('../../../properatti.csv')"
   ]
  },
  {
   "cell_type": "markdown",
   "id": "539ecb2f",
   "metadata": {},
   "source": [
    "## [1.2 - Description of the dataset and nulls values](#seccion_description)"
   ]
  },
  {
   "cell_type": "code",
   "execution_count": 3,
   "id": "98a9e95e",
   "metadata": {},
   "outputs": [
    {
     "name": "stdout",
     "output_type": "stream",
     "text": [
      "<class 'pandas.core.frame.DataFrame'>\n",
      "RangeIndex: 121220 entries, 0 to 121219\n",
      "Data columns (total 26 columns):\n",
      " #   Column                      Non-Null Count   Dtype  \n",
      "---  ------                      --------------   -----  \n",
      " 0   Unnamed: 0                  121220 non-null  int64  \n",
      " 1   operation                   121220 non-null  object \n",
      " 2   property_type               121220 non-null  object \n",
      " 3   place_name                  121197 non-null  object \n",
      " 4   place_with_parent_names     121220 non-null  object \n",
      " 5   country_name                121220 non-null  object \n",
      " 6   state_name                  121220 non-null  object \n",
      " 7   geonames_id                 102503 non-null  float64\n",
      " 8   lat-lon                     69670 non-null   object \n",
      " 9   lat                         69670 non-null   float64\n",
      " 10  lon                         69670 non-null   float64\n",
      " 11  price                       100810 non-null  float64\n",
      " 12  currency                    100809 non-null  object \n",
      " 13  price_aprox_local_currency  100810 non-null  float64\n",
      " 14  price_aprox_usd             100810 non-null  float64\n",
      " 15  surface_total_in_m2         81892 non-null   float64\n",
      " 16  surface_covered_in_m2       101313 non-null  float64\n",
      " 17  price_usd_per_m2            68617 non-null   float64\n",
      " 18  price_per_m2                87658 non-null   float64\n",
      " 19  floor                       7899 non-null    float64\n",
      " 20  rooms                       47390 non-null   float64\n",
      " 21  expenses                    14262 non-null   float64\n",
      " 22  properati_url               121220 non-null  object \n",
      " 23  description                 121218 non-null  object \n",
      " 24  title                       121220 non-null  object \n",
      " 25  image_thumbnail             118108 non-null  object \n",
      "dtypes: float64(13), int64(1), object(12)\n",
      "memory usage: 24.0+ MB\n"
     ]
    }
   ],
   "source": [
    "data.info()"
   ]
  },
  {
   "cell_type": "code",
   "execution_count": 4,
   "id": "c4854865",
   "metadata": {},
   "outputs": [
    {
     "data": {
      "text/plain": [
       "Unnamed: 0                    0.00\n",
       "operation                     0.00\n",
       "property_type                 0.00\n",
       "place_name                    0.00\n",
       "place_with_parent_names       0.00\n",
       "country_name                  0.00\n",
       "state_name                    0.00\n",
       "geonames_id                   0.15\n",
       "lat-lon                       0.43\n",
       "lat                           0.43\n",
       "lon                           0.43\n",
       "price                         0.17\n",
       "currency                      0.17\n",
       "price_aprox_local_currency    0.17\n",
       "price_aprox_usd               0.17\n",
       "surface_total_in_m2           0.32\n",
       "surface_covered_in_m2         0.16\n",
       "price_usd_per_m2              0.43\n",
       "price_per_m2                  0.28\n",
       "floor                         0.93\n",
       "rooms                         0.61\n",
       "expenses                      0.88\n",
       "properati_url                 0.00\n",
       "description                   0.00\n",
       "title                         0.00\n",
       "image_thumbnail               0.03\n",
       "dtype: float64"
      ]
     },
     "execution_count": 4,
     "metadata": {},
     "output_type": "execute_result"
    }
   ],
   "source": [
    "round(data.isnull().sum() / data.shape[0],2)"
   ]
  },
  {
   "cell_type": "code",
   "execution_count": 5,
   "id": "df6ae970",
   "metadata": {},
   "outputs": [
    {
     "data": {
      "text/plain": [
       "(121220, 26)"
      ]
     },
     "execution_count": 5,
     "metadata": {},
     "output_type": "execute_result"
    }
   ],
   "source": [
    "data.shape"
   ]
  },
  {
   "cell_type": "code",
   "execution_count": 6,
   "id": "b5b263ce",
   "metadata": {},
   "outputs": [
    {
     "data": {
      "text/plain": [
       "Index(['Unnamed: 0', 'operation', 'property_type', 'place_name',\n",
       "       'place_with_parent_names', 'country_name', 'state_name', 'geonames_id',\n",
       "       'lat-lon', 'lat', 'lon', 'price', 'currency',\n",
       "       'price_aprox_local_currency', 'price_aprox_usd', 'surface_total_in_m2',\n",
       "       'surface_covered_in_m2', 'price_usd_per_m2', 'price_per_m2', 'floor',\n",
       "       'rooms', 'expenses', 'properati_url', 'description', 'title',\n",
       "       'image_thumbnail'],\n",
       "      dtype='object')"
      ]
     },
     "execution_count": 6,
     "metadata": {},
     "output_type": "execute_result"
    }
   ],
   "source": [
    "data.columns"
   ]
  },
  {
   "cell_type": "code",
   "execution_count": 7,
   "id": "360b784c",
   "metadata": {},
   "outputs": [
    {
     "data": {
      "text/plain": [
       "<AxesSubplot:title={'center':'Amoun of properties by type'}, xlabel='property_type', ylabel='count'>"
      ]
     },
     "execution_count": 7,
     "metadata": {},
     "output_type": "execute_result"
    },
    {
     "data": {
      "image/png": "[encoded data removed]",
      "text/plain": [
       "<Figure size 576x432 with 1 Axes>"
      ]
     },
     "metadata": {
      "needs_background": "light"
     },
     "output_type": "display_data"
    }
   ],
   "source": [
    "plt.subplots(figsize=(8,6))\n",
    "plt.title('Amoun of properties by type', fontsize=18)\n",
    "sns.countplot(x='property_type',data=data)"
   ]
  },
  {
   "cell_type": "markdown",
   "id": "7e9bc91b",
   "metadata": {},
   "source": [
    "## [1.3 - Features selection ](#seccion_features)\n",
    "\n",
    "- Drop 'price' column, and 'currency' because they're already merged in 'price_aprox_usd'.\n",
    "- Drop columns with a high percentage of null values."
   ]
  },
  {
   "cell_type": "code",
   "execution_count": 8,
   "id": "566ab915",
   "metadata": {},
   "outputs": [],
   "source": [
    "data.drop(['lat-lon', 'lat', 'lon', 'floor', 'expenses', 'properati_url', 'image_thumbnail', 'Unnamed: 0', \n",
    "         'geonames_id', 'price', 'currency', 'country_name', 'price_aprox_local_currency', 'price_per_m2'], axis=1, inplace=True)"
   ]
  },
  {
   "cell_type": "markdown",
   "id": "055df5de",
   "metadata": {},
   "source": [
    "# [2 - Data Wrangling](#section_datawrangling)\n",
    "\n",
    "#### $\\hspace{.5cm}$[2.1 - Duplicated values and 'price_aprox_usd' column](#seccion_duplicated)\n",
    "\n",
    "#### $\\hspace{.5cm}$[2.2 - Work on location columns](#seccion_location)\n",
    "\n",
    "#### $\\hspace{.5cm}$[2.3 - Work on surface columns](#seccion_surface)\n",
    "\n",
    "#### $\\hspace{.5cm}$[2.4 - Create 'price_usd_per_m2' column](#seccion_pricem2)\n",
    "\n",
    "#### $\\hspace{.5cm}$[2.5 - Create 'price_usd_per_m2' column](#seccion_pricem2)"
   ]
  },
  {
   "cell_type": "markdown",
   "id": "eda487a9",
   "metadata": {},
   "source": [
    "## [2.1 - Duplicated values and 'price_aprox_usd' column](#seccion_duplicated)"
   ]
  },
  {
   "cell_type": "code",
   "execution_count": 9,
   "id": "724814a1",
   "metadata": {},
   "outputs": [
    {
     "name": "stdout",
     "output_type": "stream",
     "text": [
      "5410\n"
     ]
    }
   ],
   "source": [
    "# Dropping duplicated values\n",
    "\n",
    "print(data.duplicated().sum())\n",
    "data.drop_duplicates(inplace=True)"
   ]
  },
  {
   "cell_type": "code",
   "execution_count": 10,
   "id": "9e9c2c6a",
   "metadata": {},
   "outputs": [
    {
     "name": "stdout",
     "output_type": "stream",
     "text": [
      "Number of rows after drop duplicated values ---> 115810\n"
     ]
    }
   ],
   "source": [
    "print('Number of rows after drop duplicated values --->', data.shape[0])"
   ]
  },
  {
   "cell_type": "code",
   "execution_count": 11,
   "id": "68920489",
   "metadata": {},
   "outputs": [
    {
     "name": "stdout",
     "output_type": "stream",
     "text": [
      "Number of rows after cleaning ---> 115810\n",
      "Number of columns after cleaning ---> 12\n"
     ]
    }
   ],
   "source": [
    "print('Number of rows after cleaning --->', data.shape[0])\n",
    "print('Number of columns after cleaning --->', data.shape[1])"
   ]
  },
  {
   "cell_type": "code",
   "execution_count": 12,
   "id": "1f857f72",
   "metadata": {},
   "outputs": [
    {
     "data": {
      "text/plain": [
       "count    9.843600e+04\n",
       "mean     2.408911e+05\n",
       "std      3.938126e+05\n",
       "min      0.000000e+00\n",
       "25%      9.000000e+04\n",
       "50%      1.450000e+05\n",
       "75%      2.680000e+05\n",
       "max      4.654544e+07\n",
       "Name: price_aprox_usd, dtype: float64"
      ]
     },
     "execution_count": 12,
     "metadata": {},
     "output_type": "execute_result"
    }
   ],
   "source": [
    "data['price_aprox_usd'].describe()"
   ]
  },
  {
   "cell_type": "code",
   "execution_count": 13,
   "id": "41a4a6ff",
   "metadata": {},
   "outputs": [],
   "source": [
    "# Drop the values below 10.000 USD because, probably, they are users loading errors\n",
    "\n",
    "data.drop(data[data['price_aprox_usd'] < 9000].index, axis = 0, inplace=True)"
   ]
  },
  {
   "cell_type": "code",
   "execution_count": 14,
   "id": "ccf0835d",
   "metadata": {},
   "outputs": [
    {
     "data": {
      "text/plain": [
       "(115715, 12)"
      ]
     },
     "execution_count": 14,
     "metadata": {},
     "output_type": "execute_result"
    }
   ],
   "source": [
    "data.shape"
   ]
  },
  {
   "cell_type": "markdown",
   "id": "351d4d73",
   "metadata": {},
   "source": [
    "## [2.2 - Work on location columns](#seccion_duplicated)"
   ]
  },
  {
   "cell_type": "code",
   "execution_count": 15,
   "id": "bed61f8f",
   "metadata": {},
   "outputs": [
    {
     "data": {
      "text/html": [
       "<div>\n",
       "<style scoped>\n",
       "    .dataframe tbody tr th:only-of-type {\n",
       "        vertical-align: middle;\n",
       "    }\n",
       "\n",
       "    .dataframe tbody tr th {\n",
       "        vertical-align: top;\n",
       "    }\n",
       "\n",
       "    .dataframe thead th {\n",
       "        text-align: right;\n",
       "    }\n",
       "</style>\n",
       "<table border=\"1\" class=\"dataframe\">\n",
       "  <thead>\n",
       "    <tr style=\"text-align: right;\">\n",
       "      <th></th>\n",
       "      <th>place_with_parent_names</th>\n",
       "    </tr>\n",
       "  </thead>\n",
       "  <tbody>\n",
       "    <tr>\n",
       "      <th>0</th>\n",
       "      <td>|Argentina|Capital Federal|Mataderos|</td>\n",
       "    </tr>\n",
       "    <tr>\n",
       "      <th>1</th>\n",
       "      <td>|Argentina|Bs.As. G.B.A. Zona Sur|La Plata|</td>\n",
       "    </tr>\n",
       "    <tr>\n",
       "      <th>2</th>\n",
       "      <td>|Argentina|Capital Federal|Mataderos|</td>\n",
       "    </tr>\n",
       "    <tr>\n",
       "      <th>3</th>\n",
       "      <td>|Argentina|Capital Federal|Liniers|</td>\n",
       "    </tr>\n",
       "    <tr>\n",
       "      <th>4</th>\n",
       "      <td>|Argentina|Buenos Aires Costa Atlántica|Mar de...</td>\n",
       "    </tr>\n",
       "    <tr>\n",
       "      <th>5</th>\n",
       "      <td>|Argentina|Entre Ríos|Gualeguaychú|</td>\n",
       "    </tr>\n",
       "    <tr>\n",
       "      <th>6</th>\n",
       "      <td>|Argentina|Bs.As. G.B.A. Zona Norte|Vicente Ló...</td>\n",
       "    </tr>\n",
       "    <tr>\n",
       "      <th>7</th>\n",
       "      <td>|Argentina|Capital Federal|Belgrano|</td>\n",
       "    </tr>\n",
       "    <tr>\n",
       "      <th>8</th>\n",
       "      <td>|Argentina|Capital Federal|Belgrano|</td>\n",
       "    </tr>\n",
       "    <tr>\n",
       "      <th>9</th>\n",
       "      <td>|Argentina|Santa Fe|Rosario|</td>\n",
       "    </tr>\n",
       "  </tbody>\n",
       "</table>\n",
       "</div>"
      ],
      "text/plain": [
       "                             place_with_parent_names\n",
       "0              |Argentina|Capital Federal|Mataderos|\n",
       "1        |Argentina|Bs.As. G.B.A. Zona Sur|La Plata|\n",
       "2              |Argentina|Capital Federal|Mataderos|\n",
       "3                |Argentina|Capital Federal|Liniers|\n",
       "4  |Argentina|Buenos Aires Costa Atlántica|Mar de...\n",
       "5                |Argentina|Entre Ríos|Gualeguaychú|\n",
       "6  |Argentina|Bs.As. G.B.A. Zona Norte|Vicente Ló...\n",
       "7               |Argentina|Capital Federal|Belgrano|\n",
       "8               |Argentina|Capital Federal|Belgrano|\n",
       "9                       |Argentina|Santa Fe|Rosario|"
      ]
     },
     "execution_count": 15,
     "metadata": {},
     "output_type": "execute_result"
    }
   ],
   "source": [
    "data.loc[:, [\"place_with_parent_names\"]].head(10)"
   ]
  },
  {
   "cell_type": "code",
   "execution_count": 16,
   "id": "7460dacd",
   "metadata": {},
   "outputs": [],
   "source": [
    "import re\n",
    "\n",
    "patron_regex_arg = re.compile(\"\\|Argentina\\|\")\n",
    "data[\"place_with_parent_names\"] = data[\"place_with_parent_names\"].apply(lambda x: x if x is np.NaN else patron_regex_arg.sub(\"\",x))"
   ]
  },
  {
   "cell_type": "code",
   "execution_count": 17,
   "id": "2f7a4e69",
   "metadata": {},
   "outputs": [
    {
     "data": {
      "text/html": [
       "<div>\n",
       "<style scoped>\n",
       "    .dataframe tbody tr th:only-of-type {\n",
       "        vertical-align: middle;\n",
       "    }\n",
       "\n",
       "    .dataframe tbody tr th {\n",
       "        vertical-align: top;\n",
       "    }\n",
       "\n",
       "    .dataframe thead th {\n",
       "        text-align: right;\n",
       "    }\n",
       "</style>\n",
       "<table border=\"1\" class=\"dataframe\">\n",
       "  <thead>\n",
       "    <tr style=\"text-align: right;\">\n",
       "      <th></th>\n",
       "      <th>place_with_parent_names</th>\n",
       "    </tr>\n",
       "  </thead>\n",
       "  <tbody>\n",
       "    <tr>\n",
       "      <th>0</th>\n",
       "      <td>Capital Federal|Mataderos|</td>\n",
       "    </tr>\n",
       "    <tr>\n",
       "      <th>1</th>\n",
       "      <td>Bs.As. G.B.A. Zona Sur|La Plata|</td>\n",
       "    </tr>\n",
       "    <tr>\n",
       "      <th>2</th>\n",
       "      <td>Capital Federal|Mataderos|</td>\n",
       "    </tr>\n",
       "    <tr>\n",
       "      <th>3</th>\n",
       "      <td>Capital Federal|Liniers|</td>\n",
       "    </tr>\n",
       "    <tr>\n",
       "      <th>4</th>\n",
       "      <td>Buenos Aires Costa Atlántica|Mar del Plata|Cen...</td>\n",
       "    </tr>\n",
       "    <tr>\n",
       "      <th>5</th>\n",
       "      <td>Entre Ríos|Gualeguaychú|</td>\n",
       "    </tr>\n",
       "    <tr>\n",
       "      <th>6</th>\n",
       "      <td>Bs.As. G.B.A. Zona Norte|Vicente López|Munro|</td>\n",
       "    </tr>\n",
       "    <tr>\n",
       "      <th>7</th>\n",
       "      <td>Capital Federal|Belgrano|</td>\n",
       "    </tr>\n",
       "    <tr>\n",
       "      <th>8</th>\n",
       "      <td>Capital Federal|Belgrano|</td>\n",
       "    </tr>\n",
       "    <tr>\n",
       "      <th>9</th>\n",
       "      <td>Santa Fe|Rosario|</td>\n",
       "    </tr>\n",
       "  </tbody>\n",
       "</table>\n",
       "</div>"
      ],
      "text/plain": [
       "                             place_with_parent_names\n",
       "0                         Capital Federal|Mataderos|\n",
       "1                   Bs.As. G.B.A. Zona Sur|La Plata|\n",
       "2                         Capital Federal|Mataderos|\n",
       "3                           Capital Federal|Liniers|\n",
       "4  Buenos Aires Costa Atlántica|Mar del Plata|Cen...\n",
       "5                           Entre Ríos|Gualeguaychú|\n",
       "6      Bs.As. G.B.A. Zona Norte|Vicente López|Munro|\n",
       "7                          Capital Federal|Belgrano|\n",
       "8                          Capital Federal|Belgrano|\n",
       "9                                  Santa Fe|Rosario|"
      ]
     },
     "execution_count": 17,
     "metadata": {},
     "output_type": "execute_result"
    }
   ],
   "source": [
    "data.loc[:, [\"place_with_parent_names\"]].head(10)"
   ]
  },
  {
   "cell_type": "code",
   "execution_count": 18,
   "id": "27963fef",
   "metadata": {},
   "outputs": [
    {
     "data": {
      "text/html": [
       "<div>\n",
       "<style scoped>\n",
       "    .dataframe tbody tr th:only-of-type {\n",
       "        vertical-align: middle;\n",
       "    }\n",
       "\n",
       "    .dataframe tbody tr th {\n",
       "        vertical-align: top;\n",
       "    }\n",
       "\n",
       "    .dataframe thead th {\n",
       "        text-align: right;\n",
       "    }\n",
       "</style>\n",
       "<table border=\"1\" class=\"dataframe\">\n",
       "  <thead>\n",
       "    <tr style=\"text-align: right;\">\n",
       "      <th></th>\n",
       "      <th>state</th>\n",
       "      <th>town</th>\n",
       "      <th>extra_info</th>\n",
       "    </tr>\n",
       "  </thead>\n",
       "  <tbody>\n",
       "    <tr>\n",
       "      <th>0</th>\n",
       "      <td>Capital Federal</td>\n",
       "      <td>Mataderos</td>\n",
       "      <td></td>\n",
       "    </tr>\n",
       "    <tr>\n",
       "      <th>1</th>\n",
       "      <td>Bs.As. G.B.A. Zona Sur</td>\n",
       "      <td>La Plata</td>\n",
       "      <td></td>\n",
       "    </tr>\n",
       "    <tr>\n",
       "      <th>2</th>\n",
       "      <td>Capital Federal</td>\n",
       "      <td>Mataderos</td>\n",
       "      <td></td>\n",
       "    </tr>\n",
       "    <tr>\n",
       "      <th>3</th>\n",
       "      <td>Capital Federal</td>\n",
       "      <td>Liniers</td>\n",
       "      <td></td>\n",
       "    </tr>\n",
       "    <tr>\n",
       "      <th>4</th>\n",
       "      <td>Buenos Aires Costa Atlántica</td>\n",
       "      <td>Mar del Plata</td>\n",
       "      <td>Centro|</td>\n",
       "    </tr>\n",
       "    <tr>\n",
       "      <th>...</th>\n",
       "      <td>...</td>\n",
       "      <td>...</td>\n",
       "      <td>...</td>\n",
       "    </tr>\n",
       "    <tr>\n",
       "      <th>121215</th>\n",
       "      <td>Capital Federal</td>\n",
       "      <td>Belgrano</td>\n",
       "      <td></td>\n",
       "    </tr>\n",
       "    <tr>\n",
       "      <th>121216</th>\n",
       "      <td>Bs.As. G.B.A. Zona Norte</td>\n",
       "      <td>San Isidro</td>\n",
       "      <td>Beccar|</td>\n",
       "    </tr>\n",
       "    <tr>\n",
       "      <th>121217</th>\n",
       "      <td>Capital Federal</td>\n",
       "      <td>Villa Urquiza</td>\n",
       "      <td></td>\n",
       "    </tr>\n",
       "    <tr>\n",
       "      <th>121218</th>\n",
       "      <td>Buenos Aires Costa Atlántica</td>\n",
       "      <td>Mar del Plata</td>\n",
       "      <td>Plaza Colón|</td>\n",
       "    </tr>\n",
       "    <tr>\n",
       "      <th>121219</th>\n",
       "      <td>Capital Federal</td>\n",
       "      <td></td>\n",
       "      <td>None</td>\n",
       "    </tr>\n",
       "  </tbody>\n",
       "</table>\n",
       "<p>115715 rows × 3 columns</p>\n",
       "</div>"
      ],
      "text/plain": [
       "                               state           town    extra_info\n",
       "0                    Capital Federal      Mataderos              \n",
       "1             Bs.As. G.B.A. Zona Sur       La Plata              \n",
       "2                    Capital Federal      Mataderos              \n",
       "3                    Capital Federal        Liniers              \n",
       "4       Buenos Aires Costa Atlántica  Mar del Plata       Centro|\n",
       "...                              ...            ...           ...\n",
       "121215               Capital Federal       Belgrano              \n",
       "121216      Bs.As. G.B.A. Zona Norte     San Isidro       Beccar|\n",
       "121217               Capital Federal  Villa Urquiza              \n",
       "121218  Buenos Aires Costa Atlántica  Mar del Plata  Plaza Colón|\n",
       "121219               Capital Federal                         None\n",
       "\n",
       "[115715 rows x 3 columns]"
      ]
     },
     "execution_count": 18,
     "metadata": {},
     "output_type": "execute_result"
    }
   ],
   "source": [
    "data[[\"state\",\"town\", \"extra_info\"]] = data[\"place_with_parent_names\"].str.split(\"|\",n=2, expand=True)\n",
    "data.loc[:,[\"state\",\"town\", \"extra_info\"]]"
   ]
  },
  {
   "cell_type": "code",
   "execution_count": 19,
   "id": "48c4818c",
   "metadata": {},
   "outputs": [
    {
     "name": "stdout",
     "output_type": "stream",
     "text": [
      "Same town and state \n",
      " False    108310\n",
      "True       7405\n",
      "dtype: int64 \n",
      "\n",
      "Properties with no town \n",
      " False    111323\n",
      "True       4392\n",
      "Name: town, dtype: int64\n"
     ]
    }
   ],
   "source": [
    "same_town_state = data[\"state\"] == data[\"town\"]\n",
    "no_town = data[\"town\"] == \"\"\n",
    "\n",
    "print('Same town and state', '\\n' ,same_town_state.value_counts(), '\\n')\n",
    "print('Properties with no town', '\\n', no_town.value_counts())"
   ]
  },
  {
   "cell_type": "code",
   "execution_count": 20,
   "id": "e1d8763d",
   "metadata": {},
   "outputs": [
    {
     "data": {
      "text/html": [
       "<div>\n",
       "<style scoped>\n",
       "    .dataframe tbody tr th:only-of-type {\n",
       "        vertical-align: middle;\n",
       "    }\n",
       "\n",
       "    .dataframe tbody tr th {\n",
       "        vertical-align: top;\n",
       "    }\n",
       "\n",
       "    .dataframe thead th {\n",
       "        text-align: right;\n",
       "    }\n",
       "</style>\n",
       "<table border=\"1\" class=\"dataframe\">\n",
       "  <thead>\n",
       "    <tr style=\"text-align: right;\">\n",
       "      <th></th>\n",
       "      <th>state_name</th>\n",
       "      <th>place_name</th>\n",
       "      <th>place_with_parent_names</th>\n",
       "      <th>state</th>\n",
       "      <th>town</th>\n",
       "      <th>extra_info</th>\n",
       "    </tr>\n",
       "  </thead>\n",
       "  <tbody>\n",
       "    <tr>\n",
       "      <th>10</th>\n",
       "      <td>Córdoba</td>\n",
       "      <td>Córdoba</td>\n",
       "      <td>Córdoba|Córdoba|</td>\n",
       "      <td>Córdoba</td>\n",
       "      <td>Córdoba</td>\n",
       "      <td></td>\n",
       "    </tr>\n",
       "    <tr>\n",
       "      <th>32</th>\n",
       "      <td>Córdoba</td>\n",
       "      <td>Córdoba</td>\n",
       "      <td>Córdoba|Córdoba|</td>\n",
       "      <td>Córdoba</td>\n",
       "      <td>Córdoba</td>\n",
       "      <td></td>\n",
       "    </tr>\n",
       "    <tr>\n",
       "      <th>87</th>\n",
       "      <td>Córdoba</td>\n",
       "      <td>Córdoba</td>\n",
       "      <td>Córdoba|Córdoba|</td>\n",
       "      <td>Córdoba</td>\n",
       "      <td>Córdoba</td>\n",
       "      <td></td>\n",
       "    </tr>\n",
       "    <tr>\n",
       "      <th>88</th>\n",
       "      <td>Córdoba</td>\n",
       "      <td>Córdoba</td>\n",
       "      <td>Córdoba|Córdoba|</td>\n",
       "      <td>Córdoba</td>\n",
       "      <td>Córdoba</td>\n",
       "      <td></td>\n",
       "    </tr>\n",
       "    <tr>\n",
       "      <th>89</th>\n",
       "      <td>Córdoba</td>\n",
       "      <td>Córdoba</td>\n",
       "      <td>Córdoba|Córdoba|</td>\n",
       "      <td>Córdoba</td>\n",
       "      <td>Córdoba</td>\n",
       "      <td></td>\n",
       "    </tr>\n",
       "    <tr>\n",
       "      <th>...</th>\n",
       "      <td>...</td>\n",
       "      <td>...</td>\n",
       "      <td>...</td>\n",
       "      <td>...</td>\n",
       "      <td>...</td>\n",
       "      <td>...</td>\n",
       "    </tr>\n",
       "    <tr>\n",
       "      <th>120690</th>\n",
       "      <td>Córdoba</td>\n",
       "      <td>Córdoba</td>\n",
       "      <td>Córdoba|Córdoba|</td>\n",
       "      <td>Córdoba</td>\n",
       "      <td>Córdoba</td>\n",
       "      <td></td>\n",
       "    </tr>\n",
       "    <tr>\n",
       "      <th>120966</th>\n",
       "      <td>Córdoba</td>\n",
       "      <td>Córdoba</td>\n",
       "      <td>Córdoba|Córdoba|</td>\n",
       "      <td>Córdoba</td>\n",
       "      <td>Córdoba</td>\n",
       "      <td></td>\n",
       "    </tr>\n",
       "    <tr>\n",
       "      <th>120971</th>\n",
       "      <td>Córdoba</td>\n",
       "      <td>Córdoba</td>\n",
       "      <td>Córdoba|Córdoba|</td>\n",
       "      <td>Córdoba</td>\n",
       "      <td>Córdoba</td>\n",
       "      <td></td>\n",
       "    </tr>\n",
       "    <tr>\n",
       "      <th>120979</th>\n",
       "      <td>Córdoba</td>\n",
       "      <td>Córdoba</td>\n",
       "      <td>Córdoba|Córdoba|</td>\n",
       "      <td>Córdoba</td>\n",
       "      <td>Córdoba</td>\n",
       "      <td></td>\n",
       "    </tr>\n",
       "    <tr>\n",
       "      <th>121068</th>\n",
       "      <td>Mendoza</td>\n",
       "      <td>Mendoza</td>\n",
       "      <td>Mendoza|Mendoza|</td>\n",
       "      <td>Mendoza</td>\n",
       "      <td>Mendoza</td>\n",
       "      <td></td>\n",
       "    </tr>\n",
       "  </tbody>\n",
       "</table>\n",
       "<p>7405 rows × 6 columns</p>\n",
       "</div>"
      ],
      "text/plain": [
       "       state_name place_name place_with_parent_names    state     town  \\\n",
       "10        Córdoba    Córdoba        Córdoba|Córdoba|  Córdoba  Córdoba   \n",
       "32        Córdoba    Córdoba        Córdoba|Córdoba|  Córdoba  Córdoba   \n",
       "87        Córdoba    Córdoba        Córdoba|Córdoba|  Córdoba  Córdoba   \n",
       "88        Córdoba    Córdoba        Córdoba|Córdoba|  Córdoba  Córdoba   \n",
       "89        Córdoba    Córdoba        Córdoba|Córdoba|  Córdoba  Córdoba   \n",
       "...           ...        ...                     ...      ...      ...   \n",
       "120690    Córdoba    Córdoba        Córdoba|Córdoba|  Córdoba  Córdoba   \n",
       "120966    Córdoba    Córdoba        Córdoba|Córdoba|  Córdoba  Córdoba   \n",
       "120971    Córdoba    Córdoba        Córdoba|Córdoba|  Córdoba  Córdoba   \n",
       "120979    Córdoba    Córdoba        Córdoba|Córdoba|  Córdoba  Córdoba   \n",
       "121068    Mendoza    Mendoza        Mendoza|Mendoza|  Mendoza  Mendoza   \n",
       "\n",
       "       extra_info  \n",
       "10                 \n",
       "32                 \n",
       "87                 \n",
       "88                 \n",
       "89                 \n",
       "...           ...  \n",
       "120690             \n",
       "120966             \n",
       "120971             \n",
       "120979             \n",
       "121068             \n",
       "\n",
       "[7405 rows x 6 columns]"
      ]
     },
     "execution_count": 20,
     "metadata": {},
     "output_type": "execute_result"
    }
   ],
   "source": [
    "data.loc[same_town_state, [\"state_name\", \"place_name\", \"place_with_parent_names\", \"state\", \"town\", \"extra_info\"]]"
   ]
  },
  {
   "cell_type": "code",
   "execution_count": 21,
   "id": "067adc12",
   "metadata": {},
   "outputs": [
    {
     "data": {
      "text/html": [
       "<div>\n",
       "<style scoped>\n",
       "    .dataframe tbody tr th:only-of-type {\n",
       "        vertical-align: middle;\n",
       "    }\n",
       "\n",
       "    .dataframe tbody tr th {\n",
       "        vertical-align: top;\n",
       "    }\n",
       "\n",
       "    .dataframe thead th {\n",
       "        text-align: right;\n",
       "    }\n",
       "</style>\n",
       "<table border=\"1\" class=\"dataframe\">\n",
       "  <thead>\n",
       "    <tr style=\"text-align: right;\">\n",
       "      <th></th>\n",
       "      <th>state_name</th>\n",
       "      <th>place_name</th>\n",
       "      <th>state</th>\n",
       "      <th>town</th>\n",
       "      <th>extra_info</th>\n",
       "    </tr>\n",
       "  </thead>\n",
       "  <tbody>\n",
       "    <tr>\n",
       "      <th>108</th>\n",
       "      <td>Capital Federal</td>\n",
       "      <td>Capital Federal</td>\n",
       "      <td>Capital Federal</td>\n",
       "      <td></td>\n",
       "      <td>None</td>\n",
       "    </tr>\n",
       "    <tr>\n",
       "      <th>110</th>\n",
       "      <td>Capital Federal</td>\n",
       "      <td>Capital Federal</td>\n",
       "      <td>Capital Federal</td>\n",
       "      <td></td>\n",
       "      <td>None</td>\n",
       "    </tr>\n",
       "    <tr>\n",
       "      <th>115</th>\n",
       "      <td>Capital Federal</td>\n",
       "      <td>Capital Federal</td>\n",
       "      <td>Capital Federal</td>\n",
       "      <td></td>\n",
       "      <td>None</td>\n",
       "    </tr>\n",
       "    <tr>\n",
       "      <th>119</th>\n",
       "      <td>Capital Federal</td>\n",
       "      <td>Capital Federal</td>\n",
       "      <td>Capital Federal</td>\n",
       "      <td></td>\n",
       "      <td>None</td>\n",
       "    </tr>\n",
       "    <tr>\n",
       "      <th>121</th>\n",
       "      <td>Capital Federal</td>\n",
       "      <td>Capital Federal</td>\n",
       "      <td>Capital Federal</td>\n",
       "      <td></td>\n",
       "      <td>None</td>\n",
       "    </tr>\n",
       "    <tr>\n",
       "      <th>...</th>\n",
       "      <td>...</td>\n",
       "      <td>...</td>\n",
       "      <td>...</td>\n",
       "      <td>...</td>\n",
       "      <td>...</td>\n",
       "    </tr>\n",
       "    <tr>\n",
       "      <th>121200</th>\n",
       "      <td>Córdoba</td>\n",
       "      <td>Córdoba</td>\n",
       "      <td>Córdoba</td>\n",
       "      <td></td>\n",
       "      <td>None</td>\n",
       "    </tr>\n",
       "    <tr>\n",
       "      <th>121202</th>\n",
       "      <td>Córdoba</td>\n",
       "      <td>Córdoba</td>\n",
       "      <td>Córdoba</td>\n",
       "      <td></td>\n",
       "      <td>None</td>\n",
       "    </tr>\n",
       "    <tr>\n",
       "      <th>121203</th>\n",
       "      <td>Córdoba</td>\n",
       "      <td>Córdoba</td>\n",
       "      <td>Córdoba</td>\n",
       "      <td></td>\n",
       "      <td>None</td>\n",
       "    </tr>\n",
       "    <tr>\n",
       "      <th>121205</th>\n",
       "      <td>Córdoba</td>\n",
       "      <td>Córdoba</td>\n",
       "      <td>Córdoba</td>\n",
       "      <td></td>\n",
       "      <td>None</td>\n",
       "    </tr>\n",
       "    <tr>\n",
       "      <th>121219</th>\n",
       "      <td>Capital Federal</td>\n",
       "      <td>Capital Federal</td>\n",
       "      <td>Capital Federal</td>\n",
       "      <td></td>\n",
       "      <td>None</td>\n",
       "    </tr>\n",
       "  </tbody>\n",
       "</table>\n",
       "<p>4392 rows × 5 columns</p>\n",
       "</div>"
      ],
      "text/plain": [
       "             state_name       place_name            state town extra_info\n",
       "108     Capital Federal  Capital Federal  Capital Federal            None\n",
       "110     Capital Federal  Capital Federal  Capital Federal            None\n",
       "115     Capital Federal  Capital Federal  Capital Federal            None\n",
       "119     Capital Federal  Capital Federal  Capital Federal            None\n",
       "121     Capital Federal  Capital Federal  Capital Federal            None\n",
       "...                 ...              ...              ...  ...        ...\n",
       "121200          Córdoba          Córdoba          Córdoba            None\n",
       "121202          Córdoba          Córdoba          Córdoba            None\n",
       "121203          Córdoba          Córdoba          Córdoba            None\n",
       "121205          Córdoba          Córdoba          Córdoba            None\n",
       "121219  Capital Federal  Capital Federal  Capital Federal            None\n",
       "\n",
       "[4392 rows x 5 columns]"
      ]
     },
     "execution_count": 21,
     "metadata": {},
     "output_type": "execute_result"
    }
   ],
   "source": [
    "data.loc[no_town,['state_name', 'place_name', 'state','town', 'extra_info']]"
   ]
  },
  {
   "cell_type": "code",
   "execution_count": 22,
   "id": "79ee6680",
   "metadata": {},
   "outputs": [
    {
     "name": "stdout",
     "output_type": "stream",
     "text": [
      "(115715, 15)\n",
      "(103918, 15)\n"
     ]
    }
   ],
   "source": [
    "print(data.shape)\n",
    "data.drop(data.loc[same_town_state].index, axis=0, inplace=True)\n",
    "data.drop(data.loc[no_town].index, axis=0, inplace=True)\n",
    "print(data.shape)"
   ]
  },
  {
   "cell_type": "code",
   "execution_count": 23,
   "id": "289dd277",
   "metadata": {},
   "outputs": [
    {
     "data": {
      "text/plain": [
       "operation                      0\n",
       "property_type                  0\n",
       "place_name                    23\n",
       "place_with_parent_names        0\n",
       "state_name                     0\n",
       "price_aprox_usd            14441\n",
       "surface_total_in_m2        32164\n",
       "surface_covered_in_m2      15211\n",
       "price_usd_per_m2           41592\n",
       "rooms                      61713\n",
       "description                    2\n",
       "title                          0\n",
       "state                          0\n",
       "town                           0\n",
       "extra_info                     0\n",
       "dtype: int64"
      ]
     },
     "execution_count": 23,
     "metadata": {},
     "output_type": "execute_result"
    }
   ],
   "source": [
    "data.isnull().sum()"
   ]
  },
  {
   "cell_type": "code",
   "execution_count": 24,
   "id": "d2d4079f",
   "metadata": {},
   "outputs": [],
   "source": [
    "data.drop(['place_name', 'place_with_parent_names', 'state_name'], axis=1, inplace=True)"
   ]
  },
  {
   "cell_type": "code",
   "execution_count": 25,
   "id": "1a93ffd2",
   "metadata": {},
   "outputs": [
    {
     "data": {
      "text/html": [
       "<div>\n",
       "<style scoped>\n",
       "    .dataframe tbody tr th:only-of-type {\n",
       "        vertical-align: middle;\n",
       "    }\n",
       "\n",
       "    .dataframe tbody tr th {\n",
       "        vertical-align: top;\n",
       "    }\n",
       "\n",
       "    .dataframe thead th {\n",
       "        text-align: right;\n",
       "    }\n",
       "</style>\n",
       "<table border=\"1\" class=\"dataframe\">\n",
       "  <thead>\n",
       "    <tr style=\"text-align: right;\">\n",
       "      <th></th>\n",
       "      <th>operation</th>\n",
       "      <th>property_type</th>\n",
       "      <th>price_aprox_usd</th>\n",
       "      <th>surface_total_in_m2</th>\n",
       "      <th>surface_covered_in_m2</th>\n",
       "      <th>price_usd_per_m2</th>\n",
       "      <th>rooms</th>\n",
       "      <th>description</th>\n",
       "      <th>title</th>\n",
       "      <th>state</th>\n",
       "      <th>town</th>\n",
       "      <th>extra_info</th>\n",
       "    </tr>\n",
       "  </thead>\n",
       "  <tbody>\n",
       "    <tr>\n",
       "      <th>0</th>\n",
       "      <td>sell</td>\n",
       "      <td>PH</td>\n",
       "      <td>62000.0</td>\n",
       "      <td>55.0</td>\n",
       "      <td>40.0</td>\n",
       "      <td>1127.272727</td>\n",
       "      <td>NaN</td>\n",
       "      <td>2 AMBIENTES TIPO CASA PLANTA BAJA POR PASILLO,...</td>\n",
       "      <td>2 AMB TIPO CASA SIN EXPENSAS EN PB</td>\n",
       "      <td>Capital Federal</td>\n",
       "      <td>Mataderos</td>\n",
       "      <td></td>\n",
       "    </tr>\n",
       "    <tr>\n",
       "      <th>1</th>\n",
       "      <td>sell</td>\n",
       "      <td>apartment</td>\n",
       "      <td>150000.0</td>\n",
       "      <td>NaN</td>\n",
       "      <td>NaN</td>\n",
       "      <td>NaN</td>\n",
       "      <td>NaN</td>\n",
       "      <td>Venta de departamento en décimo piso al frente...</td>\n",
       "      <td>VENTA Depto 2 dorm. a estrenar 7 e/ 36 y 37   ...</td>\n",
       "      <td>Bs.As. G.B.A. Zona Sur</td>\n",
       "      <td>La Plata</td>\n",
       "      <td></td>\n",
       "    </tr>\n",
       "    <tr>\n",
       "      <th>2</th>\n",
       "      <td>sell</td>\n",
       "      <td>apartment</td>\n",
       "      <td>72000.0</td>\n",
       "      <td>55.0</td>\n",
       "      <td>55.0</td>\n",
       "      <td>1309.090909</td>\n",
       "      <td>NaN</td>\n",
       "      <td>2 AMBIENTES 3ER PISO LATERAL LIVING COMEDOR AM...</td>\n",
       "      <td>2 AMB 3ER PISO CON ASCENSOR APTO CREDITO</td>\n",
       "      <td>Capital Federal</td>\n",
       "      <td>Mataderos</td>\n",
       "      <td></td>\n",
       "    </tr>\n",
       "  </tbody>\n",
       "</table>\n",
       "</div>"
      ],
      "text/plain": [
       "  operation property_type  price_aprox_usd  surface_total_in_m2  \\\n",
       "0      sell            PH          62000.0                 55.0   \n",
       "1      sell     apartment         150000.0                  NaN   \n",
       "2      sell     apartment          72000.0                 55.0   \n",
       "\n",
       "   surface_covered_in_m2  price_usd_per_m2  rooms  \\\n",
       "0                   40.0       1127.272727    NaN   \n",
       "1                    NaN               NaN    NaN   \n",
       "2                   55.0       1309.090909    NaN   \n",
       "\n",
       "                                         description  \\\n",
       "0  2 AMBIENTES TIPO CASA PLANTA BAJA POR PASILLO,...   \n",
       "1  Venta de departamento en décimo piso al frente...   \n",
       "2  2 AMBIENTES 3ER PISO LATERAL LIVING COMEDOR AM...   \n",
       "\n",
       "                                               title                   state  \\\n",
       "0                 2 AMB TIPO CASA SIN EXPENSAS EN PB         Capital Federal   \n",
       "1  VENTA Depto 2 dorm. a estrenar 7 e/ 36 y 37   ...  Bs.As. G.B.A. Zona Sur   \n",
       "2           2 AMB 3ER PISO CON ASCENSOR APTO CREDITO         Capital Federal   \n",
       "\n",
       "        town extra_info  \n",
       "0  Mataderos             \n",
       "1   La Plata             \n",
       "2  Mataderos             "
      ]
     },
     "execution_count": 25,
     "metadata": {},
     "output_type": "execute_result"
    }
   ],
   "source": [
    "data.head(3)"
   ]
  },
  {
   "cell_type": "markdown",
   "id": "168a8896",
   "metadata": {},
   "source": [
    "## [2.3 - Work on surface columns](#seccion_duplicated)"
   ]
  },
  {
   "cell_type": "code",
   "execution_count": 26,
   "id": "e495455c",
   "metadata": {},
   "outputs": [
    {
     "name": "stdout",
     "output_type": "stream",
     "text": [
      "Null values in surface_total_in_m2: 32164\n",
      "Null values in surface_covered_in_m2: 15211\n"
     ]
    }
   ],
   "source": [
    "print('Null values in surface_total_in_m2:', data['surface_total_in_m2'].isnull().sum())\n",
    "print('Null values in surface_covered_in_m2:', data['surface_covered_in_m2'].isnull().sum())"
   ]
  },
  {
   "cell_type": "code",
   "execution_count": 27,
   "id": "e75b67c8",
   "metadata": {},
   "outputs": [
    {
     "data": {
      "text/plain": [
       "False    103560\n",
       "True        358\n",
       "Name: surface_total_in_m2, dtype: int64"
      ]
     },
     "execution_count": 27,
     "metadata": {},
     "output_type": "execute_result"
    }
   ],
   "source": [
    "zeros_surface_total = data['surface_total_in_m2'] == 0\n",
    "zeros_surface_total.value_counts()"
   ]
  },
  {
   "cell_type": "code",
   "execution_count": 28,
   "id": "8dcc6779",
   "metadata": {},
   "outputs": [
    {
     "data": {
      "text/plain": [
       "False    103916\n",
       "True          2\n",
       "Name: surface_covered_in_m2, dtype: int64"
      ]
     },
     "execution_count": 28,
     "metadata": {},
     "output_type": "execute_result"
    }
   ],
   "source": [
    "zeros_surface_covered = data['surface_covered_in_m2'] == 0\n",
    "zeros_surface_covered.value_counts()"
   ]
  },
  {
   "cell_type": "code",
   "execution_count": 29,
   "id": "43ff7f4a",
   "metadata": {},
   "outputs": [],
   "source": [
    "data['surface_total_zeros'] = data['surface_total_in_m2'].fillna(0)\n",
    "data['surface_covered_zeros'] = data['surface_covered_in_m2'].fillna(0)"
   ]
  },
  {
   "cell_type": "code",
   "execution_count": 30,
   "id": "25d15d81",
   "metadata": {},
   "outputs": [
    {
     "data": {
      "text/plain": [
       "0    98294\n",
       "1     5624\n",
       "dtype: int64"
      ]
     },
     "execution_count": 30,
     "metadata": {},
     "output_type": "execute_result"
    }
   ],
   "source": [
    "# We're going to assign 1 to data with value in 'surface_total_in_m2' but without in 'surface_covered_in_m2'\n",
    "\n",
    "covered_vs_total = data.apply(lambda x : 1 if x['surface_total_zeros']!= 0 and x['surface_covered_zeros'] == 0 else 0, axis=1)\n",
    "covered_vs_total.value_counts()"
   ]
  },
  {
   "cell_type": "code",
   "execution_count": 31,
   "id": "ce44dae7",
   "metadata": {},
   "outputs": [
    {
     "data": {
      "text/plain": [
       "0    80985\n",
       "1    22933\n",
       "dtype: int64"
      ]
     },
     "execution_count": 31,
     "metadata": {},
     "output_type": "execute_result"
    }
   ],
   "source": [
    "# Here, we're going to assign 1 to data with values in 'surface_covered_zeros' and without values in 'surface_total_zeros'  \n",
    "\n",
    "covered_vs_total_1 = data.apply(lambda x : 1 if x['surface_total_zeros']== 0 and x['surface_covered_zeros'] != 0 else 0, axis=1)\n",
    "covered_vs_total_1.value_counts()"
   ]
  },
  {
   "cell_type": "markdown",
   "id": "9111ac93",
   "metadata": {},
   "source": [
    "#### - Let's create a ratio to calculate m2 total divided by m2 covered by each property type. \n",
    "#### - After that, we're going to complete the data with this ratio.\n",
    "#### - However, we need to take care of the outliers first, don't want to skew the ratio, right?"
   ]
  },
  {
   "cell_type": "code",
   "execution_count": 32,
   "id": "e590ba43",
   "metadata": {},
   "outputs": [
    {
     "name": "stdout",
     "output_type": "stream",
     "text": [
      "count    103918.000000\n",
      "mean        158.071556\n",
      "std        1191.277923\n",
      "min           0.000000\n",
      "25%           0.000000\n",
      "50%          53.000000\n",
      "75%         136.000000\n",
      "max      200000.000000\n",
      "Name: surface_total_zeros, dtype: float64 \n",
      "\n"
     ]
    }
   ],
   "source": [
    "print(data['surface_total_zeros'].describe(), '\\n')"
   ]
  },
  {
   "cell_type": "code",
   "execution_count": 33,
   "id": "0c9b841f",
   "metadata": {},
   "outputs": [],
   "source": [
    "mask_outliers_max_surface_total_zeros = data[data['surface_total_zeros'] > 150].index"
   ]
  },
  {
   "cell_type": "code",
   "execution_count": 34,
   "id": "24d60e94",
   "metadata": {},
   "outputs": [],
   "source": [
    "data.drop(mask_outliers_max_surface_total_zeros, axis=0, inplace=True)"
   ]
  },
  {
   "cell_type": "code",
   "execution_count": 35,
   "id": "33e1b17a",
   "metadata": {},
   "outputs": [
    {
     "data": {
      "text/plain": [
       "(80053, 14)"
      ]
     },
     "execution_count": 35,
     "metadata": {},
     "output_type": "execute_result"
    }
   ],
   "source": [
    "data.shape"
   ]
  },
  {
   "cell_type": "code",
   "execution_count": 36,
   "id": "f23c86ca",
   "metadata": {},
   "outputs": [
    {
     "data": {
      "text/plain": [
       "<AxesSubplot:xlabel='property_type', ylabel='surface_total_zeros'>"
      ]
     },
     "execution_count": 36,
     "metadata": {},
     "output_type": "execute_result"
    },
    {
     "data": {
      "image/png": "[encoded data removed]",
      "text/plain": [
       "<Figure size 1008x576 with 1 Axes>"
      ]
     },
     "metadata": {
      "needs_background": "light"
     },
     "output_type": "display_data"
    }
   ],
   "source": [
    "plt.subplots(figsize=(14, 8))\n",
    "sns.violinplot(data=data, x='property_type', y='surface_total_zeros')"
   ]
  },
  {
   "cell_type": "code",
   "execution_count": 37,
   "id": "0170e882",
   "metadata": {},
   "outputs": [
    {
     "name": "stdout",
     "output_type": "stream",
     "text": [
      "count     80053.000000\n",
      "mean         76.104693\n",
      "std         726.421728\n",
      "min           0.000000\n",
      "25%          31.000000\n",
      "50%          50.000000\n",
      "75%          82.000000\n",
      "max      187000.000000\n",
      "Name: surface_covered_zeros, dtype: float64\n"
     ]
    }
   ],
   "source": [
    "print(data['surface_covered_zeros'].describe())"
   ]
  },
  {
   "cell_type": "code",
   "execution_count": 38,
   "id": "7a38d6ed",
   "metadata": {},
   "outputs": [],
   "source": [
    "mask_outliers_max_surface_covered_zeros = data[data['surface_covered_zeros'] > 140].index"
   ]
  },
  {
   "cell_type": "code",
   "execution_count": 39,
   "id": "3c5c7c3f",
   "metadata": {},
   "outputs": [
    {
     "name": "stdout",
     "output_type": "stream",
     "text": [
      "7205\n"
     ]
    }
   ],
   "source": [
    "print(mask_outliers_max_surface_covered_zeros.shape[0])"
   ]
  },
  {
   "cell_type": "code",
   "execution_count": 40,
   "id": "e0354c1b",
   "metadata": {},
   "outputs": [],
   "source": [
    "data.drop(mask_outliers_max_surface_covered_zeros, axis=0, inplace=True)"
   ]
  },
  {
   "cell_type": "code",
   "execution_count": 41,
   "id": "33b22543",
   "metadata": {},
   "outputs": [
    {
     "data": {
      "text/plain": [
       "<AxesSubplot:xlabel='property_type', ylabel='surface_covered_zeros'>"
      ]
     },
     "execution_count": 41,
     "metadata": {},
     "output_type": "execute_result"
    },
    {
     "data": {
      "image/png": "[encoded data removed]",
      "text/plain": [
       "<Figure size 1008x576 with 1 Axes>"
      ]
     },
     "metadata": {
      "needs_background": "light"
     },
     "output_type": "display_data"
    }
   ],
   "source": [
    "plt.subplots(figsize=(14, 8))\n",
    "sns.violinplot(data=data, x='property_type', y='surface_covered_zeros')"
   ]
  },
  {
   "cell_type": "code",
   "execution_count": 42,
   "id": "db001fcd",
   "metadata": {},
   "outputs": [
    {
     "name": "stdout",
     "output_type": "stream",
     "text": [
      "Ratio Apartment: 1.215394963110801\n",
      "Ratio House: 1.310394105512601\n",
      "Ratio PH: 1.3203235978425765\n",
      "Ratio Store: 1.389246465306496\n"
     ]
    }
   ],
   "source": [
    "# Ok, so let's create a function to calculate the mean between total and covered surface based on property_type\n",
    "\n",
    "def average_in(prop):\n",
    "    property_type = data['property_type'] == prop\n",
    "    average_type = data[property_type]\n",
    "    average = average_type.apply(lambda x : np.nan if x['surface_total_zeros'] == 0 or x['surface_covered_zeros'] == 0 \n",
    "                                 else x['surface_total_zeros']/x['surface_covered_zeros'], axis = 1)\n",
    "    return average.mean()\n",
    "\n",
    "ap = 'apartment'\n",
    "ho = 'house'\n",
    "ph = 'PH'\n",
    "st = 'store'\n",
    "\n",
    "ratio_ap = average_in(ap)\n",
    "ratio_ho = average_in(ho)\n",
    "ratio_ph = average_in(ph)\n",
    "ratio_st = average_in(st)\n",
    "\n",
    "print('Ratio Apartment:', ratio_ap)\n",
    "print('Ratio House:', ratio_ho)\n",
    "print('Ratio PH:', ratio_ph)\n",
    "print('Ratio Store:', ratio_st)"
   ]
  },
  {
   "cell_type": "code",
   "execution_count": 43,
   "id": "d27f3655",
   "metadata": {},
   "outputs": [
    {
     "data": {
      "text/plain": [
       "0.000000     15124\n",
       "40.000000     1492\n",
       "50.000000     1388\n",
       "60.000000     1189\n",
       "45.000000     1181\n",
       "             ...  \n",
       "15.800135        1\n",
       "3.646185         1\n",
       "23.092504        1\n",
       "20.661714        1\n",
       "21.877109        1\n",
       "Length: 275, dtype: int64"
      ]
     },
     "execution_count": 43,
     "metadata": {},
     "output_type": "execute_result"
    }
   ],
   "source": [
    "# Let's fill in the data with zero in surface_total_in_m2 but with de data in surface_covered by property_type 'apartment'. \n",
    "\n",
    "total_ap = data.apply(lambda x: (x['surface_covered_zeros']*ratio_ap) if x['surface_total_zeros']==0 and x['surface_covered_zeros']!=0 \n",
    "                                           and x['property_type'] == ap else 0, axis=1) \n",
    "\n",
    "apartment_total = total_ap + data['surface_total_zeros']\n",
    "\n",
    "apartment_total.value_counts()"
   ]
  },
  {
   "cell_type": "code",
   "execution_count": 44,
   "id": "beb47aff",
   "metadata": {},
   "outputs": [
    {
     "data": {
      "text/plain": [
       "0.000000      10307\n",
       "40.000000      2182\n",
       "50.000000      1851\n",
       "45.000000      1653\n",
       "60.000000      1566\n",
       "              ...  \n",
       "97.910559         1\n",
       "15.632778         1\n",
       "108.606670        1\n",
       "9.873334          1\n",
       "17.278334         1\n",
       "Length: 278, dtype: int64"
      ]
     },
     "execution_count": 44,
     "metadata": {},
     "output_type": "execute_result"
    }
   ],
   "source": [
    "covered_ap = data.apply(lambda x: (x['surface_total_zeros']/ratio_ap) if x['surface_covered_zeros'] == 0 and x['surface_total_zeros'] != 0 \n",
    "                                    and x['property_type'] == ap else 0, axis=1)\n",
    "\n",
    "apartment_covered = covered_ap + data['surface_covered_zeros'] \n",
    "\n",
    "apartment_covered.value_counts()"
   ]
  },
  {
   "cell_type": "code",
   "execution_count": 45,
   "id": "5f99f59d",
   "metadata": {},
   "outputs": [
    {
     "data": {
      "text/plain": [
       "0.000000     22311\n",
       "40.000000     1492\n",
       "50.000000     1388\n",
       "60.000000     1189\n",
       "45.000000     1181\n",
       "             ...  \n",
       "38.001429        1\n",
       "19.655912        1\n",
       "36.691035        1\n",
       "44.553400        1\n",
       "56.346947        1\n",
       "Length: 260, dtype: int64"
      ]
     },
     "execution_count": 45,
     "metadata": {},
     "output_type": "execute_result"
    }
   ],
   "source": [
    "total_ho = data.apply(lambda x : (x['surface_covered_zeros']*ratio_ho) if x['surface_total_zeros']==0 and x['surface_covered_zeros'] != 0 \n",
    "                                   and x['property_type'] == ho else 0, axis=1)\n",
    "\n",
    "house_total = total_ho + data['surface_total_zeros']\n",
    "\n",
    "house_total.value_counts()"
   ]
  },
  {
   "cell_type": "code",
   "execution_count": 46,
   "id": "a6a10323",
   "metadata": {},
   "outputs": [
    {
     "data": {
      "text/plain": [
       "0.000000     13218\n",
       "40.000000     2182\n",
       "50.000000     1851\n",
       "45.000000     1653\n",
       "60.000000     1566\n",
       "             ...  \n",
       "40.445847        1\n",
       "71.734144        1\n",
       "54.945302        1\n",
       "28.998909        1\n",
       "58.760948        1\n",
       "Length: 231, dtype: int64"
      ]
     },
     "execution_count": 46,
     "metadata": {},
     "output_type": "execute_result"
    }
   ],
   "source": [
    "covered_ho = data.apply(lambda x : (x['surface_total_zeros']/ratio_ho) if x['surface_covered_zeros']==0 and x['surface_total_zeros'] != 0 \n",
    "                                    and x['property_type'] == ho else 0, axis=1)\n",
    "\n",
    "house_covered = covered_ho + data['surface_covered_zeros']\n",
    "\n",
    "house_covered.value_counts()"
   ]
  },
  {
   "cell_type": "code",
   "execution_count": 47,
   "id": "116ac9c6",
   "metadata": {},
   "outputs": [
    {
     "data": {
      "text/plain": [
       "0.000000      24687\n",
       "40.000000      1492\n",
       "50.000000      1388\n",
       "60.000000      1189\n",
       "45.000000      1181\n",
       "              ...  \n",
       "183.524980        1\n",
       "31.687766         1\n",
       "167.681097        1\n",
       "175.603039        1\n",
       "15.843883         1\n",
       "Length: 261, dtype: int64"
      ]
     },
     "execution_count": 47,
     "metadata": {},
     "output_type": "execute_result"
    }
   ],
   "source": [
    "total_ph = data.apply(lambda x : (x['surface_covered_zeros']*ratio_ph) if x['surface_total_zeros']==0 and x['surface_covered_zeros'] != 0 \n",
    "                                  and x['property_type'] == ph else 0, axis=1)\n",
    "\n",
    "ph_total = total_ph + data['surface_total_zeros']\n",
    "\n",
    "ph_total.value_counts()"
   ]
  },
  {
   "cell_type": "code",
   "execution_count": 48,
   "id": "b7844a7d",
   "metadata": {},
   "outputs": [
    {
     "data": {
      "text/plain": [
       "0.000000     13417\n",
       "40.000000     2182\n",
       "50.000000     1851\n",
       "45.000000     1653\n",
       "60.000000     1566\n",
       "             ...  \n",
       "93.916370        1\n",
       "43.171235        1\n",
       "17.419972        1\n",
       "49.987746        1\n",
       "23.479093        1\n",
       "Length: 207, dtype: int64"
      ]
     },
     "execution_count": 48,
     "metadata": {},
     "output_type": "execute_result"
    }
   ],
   "source": [
    "covered_ph = data.apply(lambda x : (x['surface_total_zeros']/ratio_ph) if x['surface_covered_zeros']==0 and x['surface_total_zeros'] != 0 \n",
    "                                     and x['property_type'] == ph else 0, axis=1)\n",
    "\n",
    "ph_covered = covered_ph + data['surface_covered_zeros']\n",
    "\n",
    "ph_covered.value_counts()"
   ]
  },
  {
   "cell_type": "code",
   "execution_count": 49,
   "id": "2e9ac195",
   "metadata": {},
   "outputs": [
    {
     "data": {
      "text/plain": [
       "0.000000      25476\n",
       "40.000000      1492\n",
       "50.000000      1388\n",
       "60.000000      1189\n",
       "45.000000      1181\n",
       "              ...  \n",
       "4.167739          1\n",
       "151.427865        1\n",
       "143.092386        1\n",
       "40.288147         1\n",
       "130.589168        1\n",
       "Length: 238, dtype: int64"
      ]
     },
     "execution_count": 49,
     "metadata": {},
     "output_type": "execute_result"
    }
   ],
   "source": [
    "total_st = data.apply(lambda x : (x['surface_covered_zeros']*ratio_st) if x['surface_total_zeros']==0 and x['surface_covered_zeros'] != 0 \n",
    "                                    and x['property_type'] == st else 0, axis=1)\n",
    "\n",
    "store_total = total_st + data['surface_total_zeros']\n",
    "\n",
    "store_total.value_counts()"
   ]
  },
  {
   "cell_type": "code",
   "execution_count": 50,
   "id": "3e437c05",
   "metadata": {},
   "outputs": [
    {
     "data": {
      "text/plain": [
       "0.000000      13399\n",
       "40.000000      2182\n",
       "50.000000      1851\n",
       "45.000000      1653\n",
       "60.000000      1566\n",
       "              ...  \n",
       "82.778688         1\n",
       "97.894796         1\n",
       "19.434996         1\n",
       "103.653314        1\n",
       "9.357591          1\n",
       "Length: 227, dtype: int64"
      ]
     },
     "execution_count": 50,
     "metadata": {},
     "output_type": "execute_result"
    }
   ],
   "source": [
    "covered_st = data.apply(lambda x : (x['surface_total_zeros']/ratio_st) if x['surface_covered_zeros']==0 and x['surface_total_zeros'] != 0\n",
    "                                    and x['property_type'] == st else 0, axis=1)\n",
    "\n",
    "store_covered = covered_st + data['surface_covered_zeros']\n",
    "\n",
    "store_covered.value_counts()\n"
   ]
  },
  {
   "cell_type": "code",
   "execution_count": 51,
   "id": "2273217e",
   "metadata": {},
   "outputs": [],
   "source": [
    "# Create new columns with the filled data \n",
    "\n",
    "data['surface_covered_m2'] = covered_st + covered_ph + covered_ho + covered_ap + data['surface_covered_zeros']\n",
    "\n",
    "data['surface_total_m2'] = total_st + total_ph + total_ho + total_ap + data['surface_total_zeros']"
   ]
  },
  {
   "cell_type": "code",
   "execution_count": 52,
   "id": "95ff8599",
   "metadata": {},
   "outputs": [
    {
     "data": {
      "text/plain": [
       "False    63259\n",
       "True      9589\n",
       "Name: surface_covered_m2, dtype: int64"
      ]
     },
     "execution_count": 52,
     "metadata": {},
     "output_type": "execute_result"
    }
   ],
   "source": [
    "covered_zeros_final = data['surface_covered_m2'] == 0\n",
    "covered_zeros_final.value_counts()"
   ]
  },
  {
   "cell_type": "code",
   "execution_count": 53,
   "id": "93e1fc18",
   "metadata": {},
   "outputs": [
    {
     "data": {
      "text/plain": [
       "False    63259\n",
       "True      9589\n",
       "Name: surface_total_m2, dtype: int64"
      ]
     },
     "execution_count": 53,
     "metadata": {},
     "output_type": "execute_result"
    }
   ],
   "source": [
    "total_zeros_final = data['surface_total_m2'] == 0\n",
    "total_zeros_final.value_counts()"
   ]
  },
  {
   "cell_type": "markdown",
   "id": "41e2d0e9",
   "metadata": {},
   "source": [
    "#### - We're going to create a unique price_usd_m2 column (price_aprox_usd / surface_total_m2), to do that, we need to complete the column surface_total_m2 as much as we can! \n",
    "#### - Let's do some RegEx to extract information from the description column (free text) to complete the surface_total_m2 column.  "
   ]
  },
  {
   "cell_type": "code",
   "execution_count": 54,
   "id": "9a789e2f",
   "metadata": {},
   "outputs": [
    {
     "data": {
      "text/plain": [
       "array([nan, '106 ', ' ', ..., '544 ', '328 ', '697 '], dtype=object)"
      ]
     },
     "execution_count": 54,
     "metadata": {},
     "output_type": "execute_result"
    }
   ],
   "source": [
    "meters_value_pattern = '(?P<value_mts>\\d{0,4} ?)(?P<meters>m2|mts|mt|mts2|mt2)'\n",
    "meter_regex_pattern = re.compile(meters_value_pattern, re.IGNORECASE)\n",
    "\n",
    "meters_value_match = data[\"description\"].apply(lambda x:x if x is np.NaN else meter_regex_pattern.search(x).group(\"value_mts\") if meter_regex_pattern.search(x)!=None else np.NaN)\n",
    "\n",
    "data['meters_description'] = meters_value_match\n",
    "data['meters_description'].unique()"
   ]
  },
  {
   "cell_type": "code",
   "execution_count": 55,
   "id": "40ee817f",
   "metadata": {},
   "outputs": [
    {
     "data": {
      "text/plain": [
       "         1570\n",
       "50        704\n",
       "80        583\n",
       "100       476\n",
       "40        433\n",
       "         ... \n",
       "5500        1\n",
       "470         1\n",
       "267         1\n",
       "1230        1\n",
       "1470        1\n",
       "Name: meters_description, Length: 1052, dtype: int64"
      ]
     },
     "execution_count": 55,
     "metadata": {},
     "output_type": "execute_result"
    }
   ],
   "source": [
    "data['meters_description'].value_counts()"
   ]
  },
  {
   "cell_type": "code",
   "execution_count": 56,
   "id": "4522d924",
   "metadata": {},
   "outputs": [
    {
     "data": {
      "text/html": [
       "<div>\n",
       "<style scoped>\n",
       "    .dataframe tbody tr th:only-of-type {\n",
       "        vertical-align: middle;\n",
       "    }\n",
       "\n",
       "    .dataframe tbody tr th {\n",
       "        vertical-align: top;\n",
       "    }\n",
       "\n",
       "    .dataframe thead th {\n",
       "        text-align: right;\n",
       "    }\n",
       "</style>\n",
       "<table border=\"1\" class=\"dataframe\">\n",
       "  <thead>\n",
       "    <tr style=\"text-align: right;\">\n",
       "      <th></th>\n",
       "      <th>meters_description</th>\n",
       "      <th>description</th>\n",
       "    </tr>\n",
       "  </thead>\n",
       "  <tbody>\n",
       "    <tr>\n",
       "      <th>0</th>\n",
       "      <td>NaN</td>\n",
       "      <td>2 AMBIENTES TIPO CASA PLANTA BAJA POR PASILLO, REFACCIONADO A NUEVO, PATIO GRANDE, CON LAVADERO, LIVING COMEDOR CON COCINA INTEGRADA, ARTEFACTO DE COCINA, ALACENA, BAÑO COMPLETO, Y DORMITORIO. TODO EN EXCELENTE ESTADO, PARA HABITAR.NO ES APTO CREDITO Aviso publicado por Pixel Inmobiliario (Servicio de Páginas Web para Inmobiliarias).</td>\n",
       "    </tr>\n",
       "    <tr>\n",
       "      <th>1</th>\n",
       "      <td>NaN</td>\n",
       "      <td>Venta de departamento en décimo piso al frente, a estrenar. Living comedor con ventanales hacia el balcón con pisos de madera. Cocina completa con doble mesada, muebles bajo mesada. Lavadero separado. Toilette.Dormitorio con placard. Segundo dormitorio a dividir. Calefacción por radiadorBaño completo.Balcón corrido. Posibilidad de cochera semicubierta. U$D 20.000                     Aviso publicado por Pixel Inmobiliario (Servicio de Páginas Web para Inmobiliarias).</td>\n",
       "    </tr>\n",
       "    <tr>\n",
       "      <th>2</th>\n",
       "      <td>NaN</td>\n",
       "      <td>2 AMBIENTES 3ER PISO LATERAL LIVING COMEDOR AMPLIO COCINA SEPARADA CON LAVADERO, BAÑO COMPLETO Y DORMITORIO CON PLACARD. BAJAS EXPENSAS, EXCELENTE UBICACION     Aviso publicado por Pixel Inmobiliario (Servicio de Páginas Web para Inmobiliarias).</td>\n",
       "    </tr>\n",
       "    <tr>\n",
       "      <th>3</th>\n",
       "      <td>NaN</td>\n",
       "      <td>PH 3 ambientes con patio. Hay 3 deptos en lote, 2 en PB y 1 en 1º piso.Reciclado a nuevo. \"Muy buen estado\"     Aviso publicado por Pixel Inmobiliario (Servicio de Páginas Web para Inmobiliarias).</td>\n",
       "    </tr>\n",
       "    <tr>\n",
       "      <th>4</th>\n",
       "      <td>NaN</td>\n",
       "      <td>DEPARTAMENTO CON FANTÁSTICA ILUMINACIÓN NATURAL,  AL CONTRAFRENTE, EDIFICIO DE POCAS UNIDADES Y MUY BIEN CONSERVADO. EN ESTADO ORIGINAL.-POSEE: 1 DORMITORIOS,  1 BAÑO COMPLETO, LIVING COMEDOR Y COCINA SEPARADA.-EN ESTADO ORIGINAL.- Aviso publicado por Pixel Inmobiliario (Servicio de Páginas Web para Inmobiliarias).</td>\n",
       "    </tr>\n",
       "    <tr>\n",
       "      <th>5</th>\n",
       "      <td>NaN</td>\n",
       "      <td>Casa en el perímetro del barrio 338, ubicada en el extremo sur este del barrio, sobre calle 3 de caballería casi Nágera. Vista libre a terreno en frente.Consta de dos dormitorios, baño, living cocina comedor integrado de buen tamaño, lavadero con despensero en aluminio.Patio privado con churrasquera, tapiales y puerta de acceso de servicio. Frente con rejas y pequeño patio con verde, porch de acceso.Gas natural en la puerta. Aire acondicionado frío/calor. Baulera para guardado sobre pasillo. Muy buen estado en general de pisos, revestimientos, pintura, etc.Apto crédito. Aviso publicado por Pixel Inmobiliario (Servicio de Páginas Web para Inmobiliarias).</td>\n",
       "    </tr>\n",
       "    <tr>\n",
       "      <th>6</th>\n",
       "      <td>106</td>\n",
       "      <td>MUY BUEN PH AL FRENTE CON ENTRADA INDEPENDIENTE - SIN EXPENSAS! TODO EN  PLANTA BAJA DOS DORMITORIOS (pisos de pinotea) - LIVING - COCINA COMEDOR - BAÑO - PATIO - GALPÓN Y LAVADERO EN EL PATIOEN MUY BUEN ESTADO - INMEJORABLE UBICACIÓN - A 1 CUADRA DE LA ESTACIÓN DE MUNRO -  CERCA DE MAS DE 6 LINEAS DE COLECTIVOS - A 2 CUADRAS DEL CENTRO UNIVERSITARIO. 106 m2 TOTALES: 78 m2 CUBIERTOS Y 28 m2 DESCUBIERTOSAPTO PROFESIONAL                                                 Aviso publicado por Pixel Inmobiliario (Servicio de Páginas Web para Inmobiliarias).</td>\n",
       "    </tr>\n",
       "    <tr>\n",
       "      <th>7</th>\n",
       "      <td>NaN</td>\n",
       "      <td>EXCELENTE MONOAMBIENTE A ESTRENAR AMPLIO SUPER LUMINOSO ...PISO ALTO COCINA AMERICANA. BAÑO COMPLETO PILETA ,SOLARIUM, LAUNDRY APTO PROFESIONALPROXIMO AV DEL LIBERTADOR  MUY BUENA ZONA !!!! Aviso publicado por Pixel Inmobiliario (Servicio de Páginas Web para Inmobiliarias).</td>\n",
       "    </tr>\n",
       "    <tr>\n",
       "      <th>8</th>\n",
       "      <td>NaN</td>\n",
       "      <td>EXCELENTE DOS AMBIENTES  ESTRENAR AMPLIO SUPER LUMINOSO ...PISO ALTO COCINA AMERICANA. BAÑO COMPLETO PILETA ,SOLARIUM, LAUNDRY APTO PROFESIONALPROXIMO AV DEL LIBERTADOR  MUY BUENA ZONA !!!! Aviso publicado por Pixel Inmobiliario (Servicio de Páginas Web para Inmobiliarias).</td>\n",
       "    </tr>\n",
       "    <tr>\n",
       "      <th>9</th>\n",
       "      <td>NaN</td>\n",
       "      <td>MEDNOZA AL 7600A UNA CUADRA DE CALLE MENDOZAWHITE 7637 SECTOR E MONOBLOK 67LISTO PARA ESCRITURARPLANTA BAJA CON PATIO2 DORMITORIOSLIVING COMEDORCOCINA INDEPENDIENTELAVADEROPATIOS ADELANTE Y ATRÁSLUMINOSO, MUY BUENA VENTILACIÓNIMPUESTOS Y SERVICIOS AL DIADEUDA DE LA VIVIENDA TOTALMENTE CANCELADA         Aviso publicado por Pixel Inmobiliario (Servicio de Páginas Web para Inmobiliarias).</td>\n",
       "    </tr>\n",
       "  </tbody>\n",
       "</table>\n",
       "</div>"
      ],
      "text/plain": [
       "  meters_description  \\\n",
       "0                NaN   \n",
       "1                NaN   \n",
       "2                NaN   \n",
       "3                NaN   \n",
       "4                NaN   \n",
       "5                NaN   \n",
       "6               106    \n",
       "7                NaN   \n",
       "8                NaN   \n",
       "9                NaN   \n",
       "\n",
       "                                                                                                                                                                                                                                                                                                                                                                                                                                                                                                                                                                                                                                                                             description  \n",
       "0                                                                                                                                                                                                                                                                                                                                        2 AMBIENTES TIPO CASA PLANTA BAJA POR PASILLO, REFACCIONADO A NUEVO, PATIO GRANDE, CON LAVADERO, LIVING COMEDOR CON COCINA INTEGRADA, ARTEFACTO DE COCINA, ALACENA, BAÑO COMPLETO, Y DORMITORIO. TODO EN EXCELENTE ESTADO, PARA HABITAR.NO ES APTO CREDITO Aviso publicado por Pixel Inmobiliario (Servicio de Páginas Web para Inmobiliarias).  \n",
       "1                                                                                                                                                                                                 Venta de departamento en décimo piso al frente, a estrenar. Living comedor con ventanales hacia el balcón con pisos de madera. Cocina completa con doble mesada, muebles bajo mesada. Lavadero separado. Toilette.Dormitorio con placard. Segundo dormitorio a dividir. Calefacción por radiadorBaño completo.Balcón corrido. Posibilidad de cochera semicubierta. U$D 20.000                     Aviso publicado por Pixel Inmobiliario (Servicio de Páginas Web para Inmobiliarias).  \n",
       "2                                                                                                                                                                                                                                                                                                                                                                                                                                  2 AMBIENTES 3ER PISO LATERAL LIVING COMEDOR AMPLIO COCINA SEPARADA CON LAVADERO, BAÑO COMPLETO Y DORMITORIO CON PLACARD. BAJAS EXPENSAS, EXCELENTE UBICACION     Aviso publicado por Pixel Inmobiliario (Servicio de Páginas Web para Inmobiliarias).  \n",
       "3                                                                                                                                                                                                                                                                                                                                                                                                                                                                                   PH 3 ambientes con patio. Hay 3 deptos en lote, 2 en PB y 1 en 1º piso.Reciclado a nuevo. \"Muy buen estado\"     Aviso publicado por Pixel Inmobiliario (Servicio de Páginas Web para Inmobiliarias).  \n",
       "4                                                                                                                                                                                                                                                                                                                                                           DEPARTAMENTO CON FANTÁSTICA ILUMINACIÓN NATURAL,  AL CONTRAFRENTE, EDIFICIO DE POCAS UNIDADES Y MUY BIEN CONSERVADO. EN ESTADO ORIGINAL.-POSEE: 1 DORMITORIOS,  1 BAÑO COMPLETO, LIVING COMEDOR Y COCINA SEPARADA.-EN ESTADO ORIGINAL.- Aviso publicado por Pixel Inmobiliario (Servicio de Páginas Web para Inmobiliarias).  \n",
       "5  Casa en el perímetro del barrio 338, ubicada en el extremo sur este del barrio, sobre calle 3 de caballería casi Nágera. Vista libre a terreno en frente.Consta de dos dormitorios, baño, living cocina comedor integrado de buen tamaño, lavadero con despensero en aluminio.Patio privado con churrasquera, tapiales y puerta de acceso de servicio. Frente con rejas y pequeño patio con verde, porch de acceso.Gas natural en la puerta. Aire acondicionado frío/calor. Baulera para guardado sobre pasillo. Muy buen estado en general de pisos, revestimientos, pintura, etc.Apto crédito. Aviso publicado por Pixel Inmobiliario (Servicio de Páginas Web para Inmobiliarias).  \n",
       "6                                                                                                            MUY BUEN PH AL FRENTE CON ENTRADA INDEPENDIENTE - SIN EXPENSAS! TODO EN  PLANTA BAJA DOS DORMITORIOS (pisos de pinotea) - LIVING - COCINA COMEDOR - BAÑO - PATIO - GALPÓN Y LAVADERO EN EL PATIOEN MUY BUEN ESTADO - INMEJORABLE UBICACIÓN - A 1 CUADRA DE LA ESTACIÓN DE MUNRO -  CERCA DE MAS DE 6 LINEAS DE COLECTIVOS - A 2 CUADRAS DEL CENTRO UNIVERSITARIO. 106 m2 TOTALES: 78 m2 CUBIERTOS Y 28 m2 DESCUBIERTOSAPTO PROFESIONAL                                                 Aviso publicado por Pixel Inmobiliario (Servicio de Páginas Web para Inmobiliarias).  \n",
       "7                                                                                                                                                                                                                                                                                                                                                                                                     EXCELENTE MONOAMBIENTE A ESTRENAR AMPLIO SUPER LUMINOSO ...PISO ALTO COCINA AMERICANA. BAÑO COMPLETO PILETA ,SOLARIUM, LAUNDRY APTO PROFESIONALPROXIMO AV DEL LIBERTADOR  MUY BUENA ZONA !!!! Aviso publicado por Pixel Inmobiliario (Servicio de Páginas Web para Inmobiliarias).  \n",
       "8                                                                                                                                                                                                                                                                                                                                                                                                     EXCELENTE DOS AMBIENTES  ESTRENAR AMPLIO SUPER LUMINOSO ...PISO ALTO COCINA AMERICANA. BAÑO COMPLETO PILETA ,SOLARIUM, LAUNDRY APTO PROFESIONALPROXIMO AV DEL LIBERTADOR  MUY BUENA ZONA !!!! Aviso publicado por Pixel Inmobiliario (Servicio de Páginas Web para Inmobiliarias).  \n",
       "9                                                                                                                                                                                                                                                                                   MEDNOZA AL 7600A UNA CUADRA DE CALLE MENDOZAWHITE 7637 SECTOR E MONOBLOK 67LISTO PARA ESCRITURARPLANTA BAJA CON PATIO2 DORMITORIOSLIVING COMEDORCOCINA INDEPENDIENTELAVADEROPATIOS ADELANTE Y ATRÁSLUMINOSO, MUY BUENA VENTILACIÓNIMPUESTOS Y SERVICIOS AL DIADEUDA DE LA VIVIENDA TOTALMENTE CANCELADA         Aviso publicado por Pixel Inmobiliario (Servicio de Páginas Web para Inmobiliarias).  "
      ]
     },
     "execution_count": 56,
     "metadata": {},
     "output_type": "execute_result"
    }
   ],
   "source": [
    "# We're going to expand 'description' to read the data \n",
    "pd.set_option(\"display.max_colwidth\",1000)\n",
    "\n",
    "data[[\"meters_description\",\"description\"]].head(10)"
   ]
  },
  {
   "cell_type": "code",
   "execution_count": 57,
   "id": "4fb87ae4",
   "metadata": {},
   "outputs": [
    {
     "data": {
      "text/plain": [
       "9589"
      ]
     },
     "execution_count": 57,
     "metadata": {},
     "output_type": "execute_result"
    }
   ],
   "source": [
    "# Replace zero values with NaN in 'surface_total_zeros' and print the sum of null values. \n",
    "\n",
    "data['surface_total_m2'] = data['surface_total_m2'].replace(0, np.NaN)\n",
    "data['surface_total_m2'].isnull().sum()"
   ]
  },
  {
   "cell_type": "markdown",
   "id": "90177376",
   "metadata": {},
   "source": [
    "- #### Replacing null values from 'surface_total_zeros' with the data obtained from 'meters_description' column "
   ]
  },
  {
   "cell_type": "code",
   "execution_count": 58,
   "id": "013d58a4",
   "metadata": {},
   "outputs": [
    {
     "name": "stdout",
     "output_type": "stream",
     "text": [
      "9589\n"
     ]
    }
   ],
   "source": [
    "data[\"surface_total_m2\"].fillna(data[\"surface_total_m2\"], inplace=True)\n",
    "\n",
    "# Let's see the amount of nulls after imputar\n",
    "\n",
    "print(data[\"surface_total_m2\"].isnull().sum())"
   ]
  },
  {
   "cell_type": "code",
   "execution_count": 59,
   "id": "afb76d8b",
   "metadata": {},
   "outputs": [
    {
     "data": {
      "text/plain": [
       "(72848, 17)"
      ]
     },
     "execution_count": 59,
     "metadata": {},
     "output_type": "execute_result"
    }
   ],
   "source": [
    "data.shape"
   ]
  },
  {
   "cell_type": "markdown",
   "id": "d52e352b",
   "metadata": {},
   "source": [
    "- #### Drop null rows in 'surface_total_m2'"
   ]
  },
  {
   "cell_type": "code",
   "execution_count": 60,
   "id": "ad0913bc",
   "metadata": {},
   "outputs": [
    {
     "data": {
      "text/plain": [
       "(63259, 17)"
      ]
     },
     "execution_count": 60,
     "metadata": {},
     "output_type": "execute_result"
    }
   ],
   "source": [
    "data.dropna(subset=['surface_total_m2'], inplace=True)\n",
    "data.shape"
   ]
  },
  {
   "cell_type": "code",
   "execution_count": 61,
   "id": "f5df5332",
   "metadata": {},
   "outputs": [
    {
     "data": {
      "text/plain": [
       "Index(['operation', 'property_type', 'price_aprox_usd', 'surface_total_in_m2',\n",
       "       'surface_covered_in_m2', 'price_usd_per_m2', 'rooms', 'description',\n",
       "       'title', 'state', 'town', 'extra_info', 'surface_total_zeros',\n",
       "       'surface_covered_zeros', 'surface_covered_m2', 'surface_total_m2',\n",
       "       'meters_description'],\n",
       "      dtype='object')"
      ]
     },
     "execution_count": 61,
     "metadata": {},
     "output_type": "execute_result"
    }
   ],
   "source": [
    "data.columns"
   ]
  },
  {
   "cell_type": "code",
   "execution_count": 62,
   "id": "1cb712d2",
   "metadata": {},
   "outputs": [],
   "source": [
    "data.drop(['surface_total_in_m2', 'surface_covered_in_m2', 'price_usd_per_m2', 'surface_total_zeros', 'surface_covered_zeros', 'meters_description'], axis=1, inplace=True)"
   ]
  },
  {
   "cell_type": "code",
   "execution_count": 63,
   "id": "e07dcff1",
   "metadata": {},
   "outputs": [
    {
     "data": {
      "text/html": [
       "<div>\n",
       "<style scoped>\n",
       "    .dataframe tbody tr th:only-of-type {\n",
       "        vertical-align: middle;\n",
       "    }\n",
       "\n",
       "    .dataframe tbody tr th {\n",
       "        vertical-align: top;\n",
       "    }\n",
       "\n",
       "    .dataframe thead th {\n",
       "        text-align: right;\n",
       "    }\n",
       "</style>\n",
       "<table border=\"1\" class=\"dataframe\">\n",
       "  <thead>\n",
       "    <tr style=\"text-align: right;\">\n",
       "      <th></th>\n",
       "      <th>operation</th>\n",
       "      <th>property_type</th>\n",
       "      <th>price_aprox_usd</th>\n",
       "      <th>rooms</th>\n",
       "      <th>description</th>\n",
       "      <th>title</th>\n",
       "      <th>state</th>\n",
       "      <th>town</th>\n",
       "      <th>extra_info</th>\n",
       "      <th>surface_covered_m2</th>\n",
       "      <th>surface_total_m2</th>\n",
       "    </tr>\n",
       "  </thead>\n",
       "  <tbody>\n",
       "    <tr>\n",
       "      <th>0</th>\n",
       "      <td>sell</td>\n",
       "      <td>PH</td>\n",
       "      <td>62000.0</td>\n",
       "      <td>NaN</td>\n",
       "      <td>2 AMBIENTES TIPO CASA PLANTA BAJA POR PASILLO, REFACCIONADO A NUEVO, PATIO GRANDE, CON LAVADERO, LIVING COMEDOR CON COCINA INTEGRADA, ARTEFACTO DE COCINA, ALACENA, BAÑO COMPLETO, Y DORMITORIO. TODO EN EXCELENTE ESTADO, PARA HABITAR.NO ES APTO CREDITO Aviso publicado por Pixel Inmobiliario (Servicio de Páginas Web para Inmobiliarias).</td>\n",
       "      <td>2 AMB TIPO CASA SIN EXPENSAS EN PB</td>\n",
       "      <td>Capital Federal</td>\n",
       "      <td>Mataderos</td>\n",
       "      <td></td>\n",
       "      <td>40.0</td>\n",
       "      <td>55.0</td>\n",
       "    </tr>\n",
       "    <tr>\n",
       "      <th>2</th>\n",
       "      <td>sell</td>\n",
       "      <td>apartment</td>\n",
       "      <td>72000.0</td>\n",
       "      <td>NaN</td>\n",
       "      <td>2 AMBIENTES 3ER PISO LATERAL LIVING COMEDOR AMPLIO COCINA SEPARADA CON LAVADERO, BAÑO COMPLETO Y DORMITORIO CON PLACARD. BAJAS EXPENSAS, EXCELENTE UBICACION     Aviso publicado por Pixel Inmobiliario (Servicio de Páginas Web para Inmobiliarias).</td>\n",
       "      <td>2 AMB 3ER PISO CON ASCENSOR APTO CREDITO</td>\n",
       "      <td>Capital Federal</td>\n",
       "      <td>Mataderos</td>\n",
       "      <td></td>\n",
       "      <td>55.0</td>\n",
       "      <td>55.0</td>\n",
       "    </tr>\n",
       "    <tr>\n",
       "      <th>4</th>\n",
       "      <td>sell</td>\n",
       "      <td>apartment</td>\n",
       "      <td>64000.0</td>\n",
       "      <td>NaN</td>\n",
       "      <td>DEPARTAMENTO CON FANTÁSTICA ILUMINACIÓN NATURAL,  AL CONTRAFRENTE, EDIFICIO DE POCAS UNIDADES Y MUY BIEN CONSERVADO. EN ESTADO ORIGINAL.-POSEE: 1 DORMITORIOS,  1 BAÑO COMPLETO, LIVING COMEDOR Y COCINA SEPARADA.-EN ESTADO ORIGINAL.- Aviso publicado por Pixel Inmobiliario (Servicio de Páginas Web para Inmobiliarias).</td>\n",
       "      <td>DEPTO 2 AMB AL CONTRAFRENTE ZONA CENTRO/PLAZA MITRE</td>\n",
       "      <td>Buenos Aires Costa Atlántica</td>\n",
       "      <td>Mar del Plata</td>\n",
       "      <td>Centro|</td>\n",
       "      <td>35.0</td>\n",
       "      <td>35.0</td>\n",
       "    </tr>\n",
       "  </tbody>\n",
       "</table>\n",
       "</div>"
      ],
      "text/plain": [
       "  operation property_type  price_aprox_usd  rooms  \\\n",
       "0      sell            PH          62000.0    NaN   \n",
       "2      sell     apartment          72000.0    NaN   \n",
       "4      sell     apartment          64000.0    NaN   \n",
       "\n",
       "                                                                                                                                                                                                                                                                                                                                       description  \\\n",
       "0  2 AMBIENTES TIPO CASA PLANTA BAJA POR PASILLO, REFACCIONADO A NUEVO, PATIO GRANDE, CON LAVADERO, LIVING COMEDOR CON COCINA INTEGRADA, ARTEFACTO DE COCINA, ALACENA, BAÑO COMPLETO, Y DORMITORIO. TODO EN EXCELENTE ESTADO, PARA HABITAR.NO ES APTO CREDITO Aviso publicado por Pixel Inmobiliario (Servicio de Páginas Web para Inmobiliarias).   \n",
       "2                                                                                            2 AMBIENTES 3ER PISO LATERAL LIVING COMEDOR AMPLIO COCINA SEPARADA CON LAVADERO, BAÑO COMPLETO Y DORMITORIO CON PLACARD. BAJAS EXPENSAS, EXCELENTE UBICACION     Aviso publicado por Pixel Inmobiliario (Servicio de Páginas Web para Inmobiliarias).   \n",
       "4                     DEPARTAMENTO CON FANTÁSTICA ILUMINACIÓN NATURAL,  AL CONTRAFRENTE, EDIFICIO DE POCAS UNIDADES Y MUY BIEN CONSERVADO. EN ESTADO ORIGINAL.-POSEE: 1 DORMITORIOS,  1 BAÑO COMPLETO, LIVING COMEDOR Y COCINA SEPARADA.-EN ESTADO ORIGINAL.- Aviso publicado por Pixel Inmobiliario (Servicio de Páginas Web para Inmobiliarias).   \n",
       "\n",
       "                                                 title  \\\n",
       "0                   2 AMB TIPO CASA SIN EXPENSAS EN PB   \n",
       "2             2 AMB 3ER PISO CON ASCENSOR APTO CREDITO   \n",
       "4  DEPTO 2 AMB AL CONTRAFRENTE ZONA CENTRO/PLAZA MITRE   \n",
       "\n",
       "                          state           town extra_info  surface_covered_m2  \\\n",
       "0               Capital Federal      Mataderos                           40.0   \n",
       "2               Capital Federal      Mataderos                           55.0   \n",
       "4  Buenos Aires Costa Atlántica  Mar del Plata    Centro|                35.0   \n",
       "\n",
       "   surface_total_m2  \n",
       "0              55.0  \n",
       "2              55.0  \n",
       "4              35.0  "
      ]
     },
     "execution_count": 63,
     "metadata": {},
     "output_type": "execute_result"
    }
   ],
   "source": [
    "data.head(3)"
   ]
  },
  {
   "cell_type": "markdown",
   "id": "53b5325a",
   "metadata": {},
   "source": [
    "- #### Convert data to float and replace '' for NaN values"
   ]
  },
  {
   "cell_type": "code",
   "execution_count": 64,
   "id": "8ddac81d",
   "metadata": {},
   "outputs": [
    {
     "name": "stdout",
     "output_type": "stream",
     "text": [
      "0\n"
     ]
    },
    {
     "data": {
      "text/plain": [
       "0          55.000000\n",
       "2          55.000000\n",
       "4          35.000000\n",
       "5          53.000000\n",
       "6         106.000000\n",
       "             ...    \n",
       "121210    157.247293\n",
       "121214    123.000000\n",
       "121215    113.000000\n",
       "121217     46.000000\n",
       "121218     48.000000\n",
       "Name: surface_total_m2, Length: 63259, dtype: float64"
      ]
     },
     "execution_count": 64,
     "metadata": {},
     "output_type": "execute_result"
    }
   ],
   "source": [
    "data['surface_total_m2'].replace('', np.NaN)\n",
    "print(data['surface_total_m2'].isna().sum())\n",
    "pd.to_numeric(data['surface_total_m2'])"
   ]
  },
  {
   "cell_type": "code",
   "execution_count": 65,
   "id": "094d2d7c",
   "metadata": {},
   "outputs": [],
   "source": [
    "pd.set_option(\"display.max_colwidth\",50)"
   ]
  },
  {
   "cell_type": "code",
   "execution_count": 66,
   "id": "4ab8914c",
   "metadata": {},
   "outputs": [],
   "source": [
    "pd.options.mode.chained_assignment = None  # SettingWithCopyWarning: A value is trying to be set on a copy of a slice from a DataFrame."
   ]
  },
  {
   "cell_type": "markdown",
   "id": "31716ee8",
   "metadata": {},
   "source": [
    "## [2.4 - Create 'price_usd_per_m2' column](#seccion_pricem2)"
   ]
  },
  {
   "cell_type": "code",
   "execution_count": 67,
   "id": "edba2e93",
   "metadata": {},
   "outputs": [],
   "source": [
    "data['price_usd_per_m2'] = data['price_aprox_usd'] / data['surface_total_m2']"
   ]
  },
  {
   "cell_type": "code",
   "execution_count": 68,
   "id": "9961f1b9",
   "metadata": {},
   "outputs": [
    {
     "data": {
      "text/plain": [
       "operation                 0\n",
       "property_type             0\n",
       "price_aprox_usd        6371\n",
       "rooms                 34118\n",
       "description               1\n",
       "title                     0\n",
       "state                     0\n",
       "town                      0\n",
       "extra_info                0\n",
       "surface_covered_m2        0\n",
       "surface_total_m2          0\n",
       "price_usd_per_m2       6371\n",
       "dtype: int64"
      ]
     },
     "execution_count": 68,
     "metadata": {},
     "output_type": "execute_result"
    }
   ],
   "source": [
    "data.isnull().sum()"
   ]
  },
  {
   "cell_type": "markdown",
   "id": "0c1c4411",
   "metadata": {},
   "source": [
    "# [3 - New Features](#section_features)\n",
    "\n",
    "#### $\\hspace{.5cm}$[3.1 - Create 'repair' column](#seccion_repair)\n",
    "\n",
    "#### $\\hspace{.5cm}$[3.2 - Create 'pool' column](#seccion_pool)\n",
    "\n",
    "#### $\\hspace{.5cm}$[3.3 - Create 'amenities'](#seccion_amenities)\n",
    "\n",
    "#### $\\hspace{.5cm}$[3.4 - Create 'garage' column](#seccion_garage)\n",
    "\n",
    "#### $\\hspace{.5cm}$[3.5 - Create 'financing' column](#seccion_financing)\n",
    "\n",
    "#### $\\hspace{.5cm}$[3.6 - Create 'rooms' column](#seccion_rooms)\n",
    "\n",
    "#### $\\hspace{.5cm}$[3.7 - Create 'bedrooms' column](#seccion_bedrooms)"
   ]
  },
  {
   "cell_type": "markdown",
   "id": "c2b86b21",
   "metadata": {},
   "source": [
    "## [3.1 - Create 'repair' column](#seccion_repair)"
   ]
  },
  {
   "cell_type": "code",
   "execution_count": 69,
   "id": "c7418a9e",
   "metadata": {},
   "outputs": [],
   "source": [
    "pd.options.mode.chained_assignment = None  # default='warn'"
   ]
  },
  {
   "cell_type": "code",
   "execution_count": 70,
   "id": "fb4d83f5",
   "metadata": {},
   "outputs": [
    {
     "name": "stdout",
     "output_type": "stream",
     "text": [
      "                                         description repair\n",
      "0  2 AMBIENTES TIPO CASA PLANTA BAJA POR PASILLO,...   True\n",
      "2  2 AMBIENTES 3ER PISO LATERAL LIVING COMEDOR AM...  False\n",
      "4  DEPARTAMENTO CON FANTÁSTICA ILUMINACIÓN NATURA...  False\n",
      "5  Casa en el perímetro del barrio 338, ubicada e...  False\n",
      "6  MUY BUEN PH AL FRENTE CON ENTRADA INDEPENDIENT...  False\n"
     ]
    }
   ],
   "source": [
    "# We're going to look for the word 'repair' in 'description' feature, because could affect the price of the property.\n",
    "\n",
    "data['repair'] = data['description'].str.contains(r'(?i)refac')\n",
    "\n",
    "print(data[['description','repair']].head())"
   ]
  },
  {
   "cell_type": "code",
   "execution_count": 71,
   "id": "fe1906c4",
   "metadata": {},
   "outputs": [
    {
     "name": "stdout",
     "output_type": "stream",
     "text": [
      "0    62431\n",
      "1      828\n",
      "dtype: int64\n"
     ]
    }
   ],
   "source": [
    "data_repair_column =  data.apply(lambda x: 0 if x['repair'] == False else 1, axis=1)\n",
    "\n",
    "print(data_repair_column.value_counts())\n",
    "\n",
    "data[\"repair\"] = data_repair_column"
   ]
  },
  {
   "cell_type": "code",
   "execution_count": 72,
   "id": "72315ebc",
   "metadata": {},
   "outputs": [
    {
     "data": {
      "text/plain": [
       "<AxesSubplot:xlabel='repair', ylabel='count'>"
      ]
     },
     "execution_count": 72,
     "metadata": {},
     "output_type": "execute_result"
    },
    {
     "data": {
      "image/png": "[encoded data removed]",
      "text/plain": [
       "<Figure size 576x576 with 1 Axes>"
      ]
     },
     "metadata": {
      "needs_background": "light"
     },
     "output_type": "display_data"
    }
   ],
   "source": [
    "plt.subplots(figsize=(8,8))\n",
    "sns.countplot(x='repair', hue='property_type', data=data, palette='pastel')"
   ]
  },
  {
   "cell_type": "markdown",
   "id": "ee5bb4c4",
   "metadata": {},
   "source": [
    "## [3.2 - Create 'pool' column](#seccion_pool)"
   ]
  },
  {
   "cell_type": "code",
   "execution_count": 73,
   "id": "1f8e0f76",
   "metadata": {},
   "outputs": [
    {
     "name": "stdout",
     "output_type": "stream",
     "text": [
      "                                              description   pool\n",
      "0       2 AMBIENTES TIPO CASA PLANTA BAJA POR PASILLO,...  False\n",
      "2       2 AMBIENTES 3ER PISO LATERAL LIVING COMEDOR AM...  False\n",
      "4       DEPARTAMENTO CON FANTÁSTICA ILUMINACIÓN NATURA...  False\n",
      "5       Casa en el perímetro del barrio 338, ubicada e...  False\n",
      "6       MUY BUEN PH AL FRENTE CON ENTRADA INDEPENDIENT...  False\n",
      "...                                                   ...    ...\n",
      "121210  Dos viviendas en block en excelente ubicación ...  False\n",
      "121214   ***VENTA CON RENTA***Local en EDIFICIO lomas ...  False\n",
      "121215  TORRE FORUM ALCORTA - MÁXIMA CATEGORÍA.Impecab...   True\n",
      "121217  VENTA DEPARTAMENTO AMBIENTE DIVISIBLE A ESTREN...  False\n",
      "121218  2 Amb al contrafrente,  luminoso. El departame...  False\n",
      "\n",
      "[63259 rows x 2 columns]\n"
     ]
    }
   ],
   "source": [
    "data[\"pool\"] = data[\"description\"].str.contains(r'(?i)pileta|piscina|pisina|picina')\n",
    "\n",
    "print(data[[\"description\",\"pool\"]])"
   ]
  },
  {
   "cell_type": "code",
   "execution_count": 74,
   "id": "1a5b8cab",
   "metadata": {},
   "outputs": [
    {
     "data": {
      "text/plain": [
       "0    49612\n",
       "1    13647\n",
       "Name: pool, dtype: int64"
      ]
     },
     "execution_count": 74,
     "metadata": {},
     "output_type": "execute_result"
    }
   ],
   "source": [
    "data_pool_column = data.apply(lambda x: 0 if x['pool'] == False else 1, axis=1)\n",
    "\n",
    "data['pool'] = data_pool_column\n",
    "\n",
    "data['pool'].value_counts()"
   ]
  },
  {
   "cell_type": "code",
   "execution_count": 75,
   "id": "0e3b0a92",
   "metadata": {},
   "outputs": [
    {
     "data": {
      "text/plain": [
       "<AxesSubplot:xlabel='pool', ylabel='count'>"
      ]
     },
     "execution_count": 75,
     "metadata": {},
     "output_type": "execute_result"
    },
    {
     "data": {
      "image/png": "[encoded data removed]",
      "text/plain": [
       "<Figure size 576x576 with 1 Axes>"
      ]
     },
     "metadata": {
      "needs_background": "light"
     },
     "output_type": "display_data"
    }
   ],
   "source": [
    "plt.subplots(figsize=(8,8))\n",
    "sns.countplot(x='pool', hue='property_type', data=data, palette='pastel')"
   ]
  },
  {
   "cell_type": "markdown",
   "id": "ad12be29",
   "metadata": {},
   "source": [
    "## [3.3 - Create 'amenities' column](#seccion_amenities)"
   ]
  },
  {
   "cell_type": "code",
   "execution_count": 76,
   "id": "caafdb76",
   "metadata": {},
   "outputs": [
    {
     "data": {
      "text/html": [
       "<div>\n",
       "<style scoped>\n",
       "    .dataframe tbody tr th:only-of-type {\n",
       "        vertical-align: middle;\n",
       "    }\n",
       "\n",
       "    .dataframe tbody tr th {\n",
       "        vertical-align: top;\n",
       "    }\n",
       "\n",
       "    .dataframe thead th {\n",
       "        text-align: right;\n",
       "    }\n",
       "</style>\n",
       "<table border=\"1\" class=\"dataframe\">\n",
       "  <thead>\n",
       "    <tr style=\"text-align: right;\">\n",
       "      <th></th>\n",
       "      <th>description</th>\n",
       "      <th>amenities</th>\n",
       "    </tr>\n",
       "  </thead>\n",
       "  <tbody>\n",
       "    <tr>\n",
       "      <th>0</th>\n",
       "      <td>2 AMBIENTES TIPO CASA PLANTA BAJA POR PASILLO,...</td>\n",
       "      <td>False</td>\n",
       "    </tr>\n",
       "    <tr>\n",
       "      <th>2</th>\n",
       "      <td>2 AMBIENTES 3ER PISO LATERAL LIVING COMEDOR AM...</td>\n",
       "      <td>False</td>\n",
       "    </tr>\n",
       "    <tr>\n",
       "      <th>4</th>\n",
       "      <td>DEPARTAMENTO CON FANTÁSTICA ILUMINACIÓN NATURA...</td>\n",
       "      <td>False</td>\n",
       "    </tr>\n",
       "    <tr>\n",
       "      <th>5</th>\n",
       "      <td>Casa en el perímetro del barrio 338, ubicada e...</td>\n",
       "      <td>False</td>\n",
       "    </tr>\n",
       "    <tr>\n",
       "      <th>6</th>\n",
       "      <td>MUY BUEN PH AL FRENTE CON ENTRADA INDEPENDIENT...</td>\n",
       "      <td>False</td>\n",
       "    </tr>\n",
       "    <tr>\n",
       "      <th>...</th>\n",
       "      <td>...</td>\n",
       "      <td>...</td>\n",
       "    </tr>\n",
       "    <tr>\n",
       "      <th>121210</th>\n",
       "      <td>Dos viviendas en block en excelente ubicación ...</td>\n",
       "      <td>False</td>\n",
       "    </tr>\n",
       "    <tr>\n",
       "      <th>121214</th>\n",
       "      <td>***VENTA CON RENTA***Local en EDIFICIO lomas ...</td>\n",
       "      <td>False</td>\n",
       "    </tr>\n",
       "    <tr>\n",
       "      <th>121215</th>\n",
       "      <td>TORRE FORUM ALCORTA - MÁXIMA CATEGORÍA.Impecab...</td>\n",
       "      <td>False</td>\n",
       "    </tr>\n",
       "    <tr>\n",
       "      <th>121217</th>\n",
       "      <td>VENTA DEPARTAMENTO AMBIENTE DIVISIBLE A ESTREN...</td>\n",
       "      <td>True</td>\n",
       "    </tr>\n",
       "    <tr>\n",
       "      <th>121218</th>\n",
       "      <td>2 Amb al contrafrente,  luminoso. El departame...</td>\n",
       "      <td>False</td>\n",
       "    </tr>\n",
       "  </tbody>\n",
       "</table>\n",
       "<p>63259 rows × 2 columns</p>\n",
       "</div>"
      ],
      "text/plain": [
       "                                              description amenities\n",
       "0       2 AMBIENTES TIPO CASA PLANTA BAJA POR PASILLO,...     False\n",
       "2       2 AMBIENTES 3ER PISO LATERAL LIVING COMEDOR AM...     False\n",
       "4       DEPARTAMENTO CON FANTÁSTICA ILUMINACIÓN NATURA...     False\n",
       "5       Casa en el perímetro del barrio 338, ubicada e...     False\n",
       "6       MUY BUEN PH AL FRENTE CON ENTRADA INDEPENDIENT...     False\n",
       "...                                                   ...       ...\n",
       "121210  Dos viviendas en block en excelente ubicación ...     False\n",
       "121214   ***VENTA CON RENTA***Local en EDIFICIO lomas ...     False\n",
       "121215  TORRE FORUM ALCORTA - MÁXIMA CATEGORÍA.Impecab...     False\n",
       "121217  VENTA DEPARTAMENTO AMBIENTE DIVISIBLE A ESTREN...      True\n",
       "121218  2 Amb al contrafrente,  luminoso. El departame...     False\n",
       "\n",
       "[63259 rows x 2 columns]"
      ]
     },
     "execution_count": 76,
     "metadata": {},
     "output_type": "execute_result"
    }
   ],
   "source": [
    "data['amenities'] = data['description'].str.contains(r'(?i)amenities')\n",
    "\n",
    "data[['description', 'amenities']]"
   ]
  },
  {
   "cell_type": "code",
   "execution_count": 77,
   "id": "3aeddfe6",
   "metadata": {},
   "outputs": [
    {
     "data": {
      "text/plain": [
       "0    55526\n",
       "1     7733\n",
       "Name: amenities, dtype: int64"
      ]
     },
     "execution_count": 77,
     "metadata": {},
     "output_type": "execute_result"
    }
   ],
   "source": [
    "data_amenities_column = data.apply(lambda x: 0 if x['amenities'] == False else 1, axis=1)\n",
    "\n",
    "data['amenities'] = data_amenities_column\n",
    "\n",
    "data['amenities'].value_counts()"
   ]
  },
  {
   "cell_type": "code",
   "execution_count": 78,
   "id": "988c1904",
   "metadata": {},
   "outputs": [
    {
     "data": {
      "text/plain": [
       "<AxesSubplot:xlabel='amenities', ylabel='count'>"
      ]
     },
     "execution_count": 78,
     "metadata": {},
     "output_type": "execute_result"
    },
    {
     "data": {
      "image/png": "[encoded data removed]",
      "text/plain": [
       "<Figure size 576x576 with 1 Axes>"
      ]
     },
     "metadata": {
      "needs_background": "light"
     },
     "output_type": "display_data"
    }
   ],
   "source": [
    "plt.subplots(figsize=(8,8))\n",
    "sns.countplot(x='amenities', hue='property_type', data=data, palette='pastel')"
   ]
  },
  {
   "cell_type": "markdown",
   "id": "06751b80",
   "metadata": {},
   "source": [
    "## [3.4 - Create 'garage' column](#seccion_garage)"
   ]
  },
  {
   "cell_type": "code",
   "execution_count": 79,
   "id": "4e6085d4",
   "metadata": {},
   "outputs": [
    {
     "data": {
      "text/plain": [
       "0    36748\n",
       "1    26511\n",
       "Name: garage, dtype: int64"
      ]
     },
     "execution_count": 79,
     "metadata": {},
     "output_type": "execute_result"
    }
   ],
   "source": [
    "data['garage'] = data['description'].str.contains(r'(?i)garage|cochera|estacionamiento')\n",
    "\n",
    "data_garage_column = data.apply(lambda x: 0 if x['garage'] == False else 1, axis=1)\n",
    "\n",
    "data['garage'] = data_garage_column\n",
    "\n",
    "data['garage'].value_counts()"
   ]
  },
  {
   "cell_type": "code",
   "execution_count": 80,
   "id": "692c7669",
   "metadata": {},
   "outputs": [
    {
     "data": {
      "text/plain": [
       "<AxesSubplot:xlabel='garage', ylabel='count'>"
      ]
     },
     "execution_count": 80,
     "metadata": {},
     "output_type": "execute_result"
    },
    {
     "data": {
      "image/png": "[encoded data removed]",
      "text/plain": [
       "<Figure size 576x576 with 1 Axes>"
      ]
     },
     "metadata": {
      "needs_background": "light"
     },
     "output_type": "display_data"
    }
   ],
   "source": [
    "plt.subplots(figsize=(8,8))\n",
    "sns.countplot(x='garage', hue='property_type', data=data, palette='pastel')"
   ]
  },
  {
   "cell_type": "markdown",
   "id": "ae31a146",
   "metadata": {},
   "source": [
    "## [3.5 - Create 'financing' column](#seccion_financing)"
   ]
  },
  {
   "cell_type": "code",
   "execution_count": 81,
   "id": "9dfb1421",
   "metadata": {},
   "outputs": [
    {
     "data": {
      "text/plain": [
       "0    50898\n",
       "1    12361\n",
       "Name: financing, dtype: int64"
      ]
     },
     "execution_count": 81,
     "metadata": {},
     "output_type": "execute_result"
    }
   ],
   "source": [
    "data['financing'] = data['description'].str.contains(r'(?i)cuotas|financiacion|pozo|credito')\n",
    "\n",
    "data_financing_column = data.apply(lambda x: 0 if x['financing'] == False else 1, axis=1)\n",
    "\n",
    "data['financing'] = data_financing_column\n",
    "\n",
    "data['financing'].value_counts()"
   ]
  },
  {
   "cell_type": "code",
   "execution_count": 82,
   "id": "275cb4a7",
   "metadata": {},
   "outputs": [
    {
     "data": {
      "text/plain": [
       "<AxesSubplot:xlabel='financing', ylabel='count'>"
      ]
     },
     "execution_count": 82,
     "metadata": {},
     "output_type": "execute_result"
    },
    {
     "data": {
      "image/png": "[encoded data removed]",
      "text/plain": [
       "<Figure size 576x576 with 1 Axes>"
      ]
     },
     "metadata": {
      "needs_background": "light"
     },
     "output_type": "display_data"
    }
   ],
   "source": [
    "plt.subplots(figsize=(8,8))\n",
    "sns.countplot(x='financing', hue='property_type', data=data, palette='pastel')"
   ]
  },
  {
   "cell_type": "markdown",
   "id": "3787a654",
   "metadata": {},
   "source": [
    "## [3.6 - Create 'rooms' column](#seccion_rooms)"
   ]
  },
  {
   "cell_type": "code",
   "execution_count": 83,
   "id": "73dfd48b",
   "metadata": {},
   "outputs": [],
   "source": [
    "# Number of rooms could be a number or a string, let's check on both. \n",
    "\n",
    "data['description'] = data['description'].astype(str)\n",
    "data['title'] = data['title'].astype(str)"
   ]
  },
  {
   "cell_type": "code",
   "execution_count": 84,
   "id": "422fcad9",
   "metadata": {},
   "outputs": [],
   "source": [
    "def search_pattern(pattern, column, new_column):\n",
    "    \n",
    "    regex_pattern = re.compile(pattern, re.IGNORECASE)\n",
    "    match = data[column].apply(lambda x: x if x is np.NaN else regex_pattern.search(x).group(\"numero\") if regex_pattern.search(x)!=None else np.NaN)\n",
    "    data.insert(4, new_column, match)"
   ]
  },
  {
   "cell_type": "code",
   "execution_count": 85,
   "id": "bc830f7b",
   "metadata": {},
   "outputs": [],
   "source": [
    "# Doing some Regex! \n",
    "\n",
    "rooms_number = \"(?P<numero>\\d\\d?) ?(ambientes|ambiente|amb)\"\n",
    "rooms_str = \"(?P<numero>mono|un|dos|tres|cuatro|cinco|seis|siete|ocho|nueve|diez) ?(ambientes|ambiente|amb)\"\n",
    "\n",
    "\n",
    "search_pattern(rooms_number, \"description\", \"room_number_description\")\n",
    "search_pattern(rooms_str, \"description\", \"room_str_description\")\n",
    "search_pattern(rooms_number, \"title\", \"room_number_title\")\n",
    "search_pattern(rooms_str, \"title\", \"room_str_title\")"
   ]
  },
  {
   "cell_type": "code",
   "execution_count": 86,
   "id": "f395d6de",
   "metadata": {},
   "outputs": [],
   "source": [
    "data['room_str_description'] = data['room_str_description'].astype(str)\n",
    "data['room_str_title'] = data['room_str_title'].astype(str)"
   ]
  },
  {
   "cell_type": "code",
   "execution_count": 87,
   "id": "ae40a91a",
   "metadata": {},
   "outputs": [],
   "source": [
    "# Replacing some strings for numbers\n",
    "\n",
    "dictionary = {\"mono\":1,\"dos\":2,\"tres\":3,\"cuatro\":4,\"cinco\":5,\"seis\":6,\"siete\":7,\"ocho\":8,\"nueve\":9,\"diez\":10}\n",
    "\n",
    "data[\"room_str_description\"].replace(dictionary, inplace=True ) \n",
    "\n",
    "data[\"room_str_title\"].replace(dictionary, inplace=True)"
   ]
  },
  {
   "cell_type": "code",
   "execution_count": 88,
   "id": "7c0a8e0b",
   "metadata": {},
   "outputs": [
    {
     "data": {
      "text/html": [
       "<div>\n",
       "<style scoped>\n",
       "    .dataframe tbody tr th:only-of-type {\n",
       "        vertical-align: middle;\n",
       "    }\n",
       "\n",
       "    .dataframe tbody tr th {\n",
       "        vertical-align: top;\n",
       "    }\n",
       "\n",
       "    .dataframe thead th {\n",
       "        text-align: right;\n",
       "    }\n",
       "</style>\n",
       "<table border=\"1\" class=\"dataframe\">\n",
       "  <thead>\n",
       "    <tr style=\"text-align: right;\">\n",
       "      <th></th>\n",
       "      <th>room_number_description</th>\n",
       "      <th>room_str_description</th>\n",
       "      <th>room_number_title</th>\n",
       "      <th>room_str_title</th>\n",
       "    </tr>\n",
       "  </thead>\n",
       "  <tbody>\n",
       "    <tr>\n",
       "      <th>0</th>\n",
       "      <td>2</td>\n",
       "      <td>nan</td>\n",
       "      <td>2</td>\n",
       "      <td>nan</td>\n",
       "    </tr>\n",
       "    <tr>\n",
       "      <th>2</th>\n",
       "      <td>2</td>\n",
       "      <td>nan</td>\n",
       "      <td>2</td>\n",
       "      <td>nan</td>\n",
       "    </tr>\n",
       "    <tr>\n",
       "      <th>4</th>\n",
       "      <td>NaN</td>\n",
       "      <td>nan</td>\n",
       "      <td>2</td>\n",
       "      <td>nan</td>\n",
       "    </tr>\n",
       "    <tr>\n",
       "      <th>5</th>\n",
       "      <td>NaN</td>\n",
       "      <td>nan</td>\n",
       "      <td>NaN</td>\n",
       "      <td>nan</td>\n",
       "    </tr>\n",
       "    <tr>\n",
       "      <th>6</th>\n",
       "      <td>NaN</td>\n",
       "      <td>nan</td>\n",
       "      <td>NaN</td>\n",
       "      <td>nan</td>\n",
       "    </tr>\n",
       "    <tr>\n",
       "      <th>...</th>\n",
       "      <td>...</td>\n",
       "      <td>...</td>\n",
       "      <td>...</td>\n",
       "      <td>...</td>\n",
       "    </tr>\n",
       "    <tr>\n",
       "      <th>121210</th>\n",
       "      <td>NaN</td>\n",
       "      <td>nan</td>\n",
       "      <td>NaN</td>\n",
       "      <td>nan</td>\n",
       "    </tr>\n",
       "    <tr>\n",
       "      <th>121214</th>\n",
       "      <td>NaN</td>\n",
       "      <td>nan</td>\n",
       "      <td>NaN</td>\n",
       "      <td>nan</td>\n",
       "    </tr>\n",
       "    <tr>\n",
       "      <th>121215</th>\n",
       "      <td>NaN</td>\n",
       "      <td>nan</td>\n",
       "      <td>3</td>\n",
       "      <td>nan</td>\n",
       "    </tr>\n",
       "    <tr>\n",
       "      <th>121217</th>\n",
       "      <td>NaN</td>\n",
       "      <td>1</td>\n",
       "      <td>NaN</td>\n",
       "      <td>nan</td>\n",
       "    </tr>\n",
       "    <tr>\n",
       "      <th>121218</th>\n",
       "      <td>2</td>\n",
       "      <td>nan</td>\n",
       "      <td>2</td>\n",
       "      <td>nan</td>\n",
       "    </tr>\n",
       "  </tbody>\n",
       "</table>\n",
       "<p>34118 rows × 4 columns</p>\n",
       "</div>"
      ],
      "text/plain": [
       "       room_number_description room_str_description room_number_title  \\\n",
       "0                            2                  nan                 2   \n",
       "2                            2                  nan                 2   \n",
       "4                          NaN                  nan                 2   \n",
       "5                          NaN                  nan               NaN   \n",
       "6                          NaN                  nan               NaN   \n",
       "...                        ...                  ...               ...   \n",
       "121210                     NaN                  nan               NaN   \n",
       "121214                     NaN                  nan               NaN   \n",
       "121215                     NaN                  nan                 3   \n",
       "121217                     NaN                    1               NaN   \n",
       "121218                       2                  nan                 2   \n",
       "\n",
       "       room_str_title  \n",
       "0                 nan  \n",
       "2                 nan  \n",
       "4                 nan  \n",
       "5                 nan  \n",
       "6                 nan  \n",
       "...               ...  \n",
       "121210            nan  \n",
       "121214            nan  \n",
       "121215            nan  \n",
       "121217            nan  \n",
       "121218            nan  \n",
       "\n",
       "[34118 rows x 4 columns]"
      ]
     },
     "execution_count": 88,
     "metadata": {},
     "output_type": "execute_result"
    }
   ],
   "source": [
    "mask_no_rooms = data['rooms'].isnull()\n",
    "data.loc[mask_no_rooms,[\"room_number_description\",\"room_str_description\",\"room_number_title\",\"room_str_title\"]]"
   ]
  },
  {
   "cell_type": "code",
   "execution_count": 89,
   "id": "34e2a125",
   "metadata": {},
   "outputs": [],
   "source": [
    "data[\"room_str_description\"] = data[\"room_str_description\"].str.lower()\n",
    "data[\"room_str_title\"] = data[\"room_str_title\"].str.lower()\n",
    "\n",
    "data[\"room_str_description\"] = data[\"room_str_description\"].replace(dictionary)\n",
    "data[\"room_str_title\"] = data[\"room_str_title\"].replace(dictionary)"
   ]
  },
  {
   "cell_type": "code",
   "execution_count": 90,
   "id": "2e9f5c8c",
   "metadata": {},
   "outputs": [
    {
     "name": "stdout",
     "output_type": "stream",
     "text": [
      "Room Number Description:  27614\n",
      "Room String Description:  57763\n",
      "Room Number Title:  16550\n",
      "Room String title:  61961\n"
     ]
    }
   ],
   "source": [
    "print('Room Number Description: ', data[\"room_number_description\"].notnull().sum())\n",
    "print('Room String Description: ', data[\"room_str_description\"].notnull().sum())\n",
    "print('Room Number Title: ', data[\"room_number_title\"].notnull().sum())\n",
    "print('Room String title: ', data[\"room_str_title\"].notnull().sum())"
   ]
  },
  {
   "cell_type": "code",
   "execution_count": 91,
   "id": "0ee07d34",
   "metadata": {},
   "outputs": [
    {
     "name": "stdout",
     "output_type": "stream",
     "text": [
      "The amount of nulls in Rooms is: 34118\n"
     ]
    }
   ],
   "source": [
    "print('The amount of nulls in Rooms is:', data['rooms'].isnull().sum())"
   ]
  },
  {
   "cell_type": "code",
   "execution_count": 92,
   "id": "d1975923",
   "metadata": {},
   "outputs": [],
   "source": [
    "# Filling the null values in \"rooms\" with the data extracted from the description\n",
    "\n",
    "data[\"rooms\"].fillna(data[\"room_number_description\"], axis=0, inplace=True)\n",
    "data[\"rooms\"].fillna(data[\"room_str_description\"], axis=0,inplace=True)\n",
    "data[\"rooms\"].fillna(data[\"room_number_title\"], axis=0,inplace=True)\n",
    "data[\"rooms\"].fillna(data[\"room_str_title\"],axis=0, inplace=True)"
   ]
  },
  {
   "cell_type": "code",
   "execution_count": 93,
   "id": "59fca989",
   "metadata": {},
   "outputs": [
    {
     "name": "stdout",
     "output_type": "stream",
     "text": [
      "The amount of nulls in Rooms, feter filling it is: 376\n"
     ]
    }
   ],
   "source": [
    "print('The amount of nulls in Rooms, feter filling it is:', data['rooms'].isnull().sum())"
   ]
  },
  {
   "cell_type": "markdown",
   "id": "c6c42a48",
   "metadata": {},
   "source": [
    "## [3.7 - Create 'bedrooms' column](#seccion_bedrooms)"
   ]
  },
  {
   "cell_type": "code",
   "execution_count": 94,
   "id": "45c63bd7",
   "metadata": {},
   "outputs": [],
   "source": [
    "bedroom_number = \"(?P<numero>\\d\\d?) ?(dorm|cuarto)\"\n",
    "bedroom_str = \"(?P<numero>mono|un|dos|tres|cuatro|cinco|seis|siete|ocho|nueve|diez) ?(dorm|cuarto)\"\n",
    "\n",
    "search_pattern(bedroom_number, \"description\", \"bedroom_number\")\n",
    "search_pattern(bedroom_str, \"description\", \"bedroom_str\")"
   ]
  },
  {
   "cell_type": "code",
   "execution_count": 95,
   "id": "37ae1447",
   "metadata": {},
   "outputs": [
    {
     "data": {
      "text/html": [
       "<div>\n",
       "<style scoped>\n",
       "    .dataframe tbody tr th:only-of-type {\n",
       "        vertical-align: middle;\n",
       "    }\n",
       "\n",
       "    .dataframe tbody tr th {\n",
       "        vertical-align: top;\n",
       "    }\n",
       "\n",
       "    .dataframe thead th {\n",
       "        text-align: right;\n",
       "    }\n",
       "</style>\n",
       "<table border=\"1\" class=\"dataframe\">\n",
       "  <thead>\n",
       "    <tr style=\"text-align: right;\">\n",
       "      <th></th>\n",
       "      <th>bedroom_number</th>\n",
       "      <th>bedroom_str</th>\n",
       "    </tr>\n",
       "  </thead>\n",
       "  <tbody>\n",
       "    <tr>\n",
       "      <th>0</th>\n",
       "      <td>NaN</td>\n",
       "      <td>NaN</td>\n",
       "    </tr>\n",
       "    <tr>\n",
       "      <th>2</th>\n",
       "      <td>NaN</td>\n",
       "      <td>NaN</td>\n",
       "    </tr>\n",
       "    <tr>\n",
       "      <th>4</th>\n",
       "      <td>1</td>\n",
       "      <td>NaN</td>\n",
       "    </tr>\n",
       "    <tr>\n",
       "      <th>5</th>\n",
       "      <td>NaN</td>\n",
       "      <td>dos</td>\n",
       "    </tr>\n",
       "    <tr>\n",
       "      <th>6</th>\n",
       "      <td>NaN</td>\n",
       "      <td>DOS</td>\n",
       "    </tr>\n",
       "    <tr>\n",
       "      <th>...</th>\n",
       "      <td>...</td>\n",
       "      <td>...</td>\n",
       "    </tr>\n",
       "    <tr>\n",
       "      <th>121210</th>\n",
       "      <td>2</td>\n",
       "      <td>NaN</td>\n",
       "    </tr>\n",
       "    <tr>\n",
       "      <th>121214</th>\n",
       "      <td>NaN</td>\n",
       "      <td>NaN</td>\n",
       "    </tr>\n",
       "    <tr>\n",
       "      <th>121215</th>\n",
       "      <td>2</td>\n",
       "      <td>NaN</td>\n",
       "    </tr>\n",
       "    <tr>\n",
       "      <th>121217</th>\n",
       "      <td>NaN</td>\n",
       "      <td>NaN</td>\n",
       "    </tr>\n",
       "    <tr>\n",
       "      <th>121218</th>\n",
       "      <td>NaN</td>\n",
       "      <td>NaN</td>\n",
       "    </tr>\n",
       "  </tbody>\n",
       "</table>\n",
       "<p>34118 rows × 2 columns</p>\n",
       "</div>"
      ],
      "text/plain": [
       "       bedroom_number bedroom_str\n",
       "0                 NaN         NaN\n",
       "2                 NaN         NaN\n",
       "4                   1         NaN\n",
       "5                 NaN         dos\n",
       "6                 NaN         DOS\n",
       "...               ...         ...\n",
       "121210              2         NaN\n",
       "121214            NaN         NaN\n",
       "121215              2         NaN\n",
       "121217            NaN         NaN\n",
       "121218            NaN         NaN\n",
       "\n",
       "[34118 rows x 2 columns]"
      ]
     },
     "execution_count": 95,
     "metadata": {},
     "output_type": "execute_result"
    }
   ],
   "source": [
    "data.loc[mask_no_rooms,[\"bedroom_number\",\"bedroom_str\"]]"
   ]
  },
  {
   "cell_type": "code",
   "execution_count": 96,
   "id": "2d751ec6",
   "metadata": {},
   "outputs": [],
   "source": [
    "data[\"bedroom_str\"] = data[\"bedroom_str\"].str.lower()\n",
    "dictionary_str = {\"un\":1,\"dos\":2,\"tres\":3,\"cuatro\":4,\"cinco\":5,\"seis\":6,\"siete\":7,\"ocho\":8,\"nueve\":9,\"diez\":10}\n",
    "data[\"bedroom_str\"] = data[\"bedroom_str\"].replace(dictionary_str)"
   ]
  },
  {
   "cell_type": "code",
   "execution_count": 97,
   "id": "19555f09",
   "metadata": {},
   "outputs": [
    {
     "data": {
      "text/html": [
       "<div>\n",
       "<style scoped>\n",
       "    .dataframe tbody tr th:only-of-type {\n",
       "        vertical-align: middle;\n",
       "    }\n",
       "\n",
       "    .dataframe tbody tr th {\n",
       "        vertical-align: top;\n",
       "    }\n",
       "\n",
       "    .dataframe thead th {\n",
       "        text-align: right;\n",
       "    }\n",
       "</style>\n",
       "<table border=\"1\" class=\"dataframe\">\n",
       "  <thead>\n",
       "    <tr style=\"text-align: right;\">\n",
       "      <th></th>\n",
       "      <th>rooms</th>\n",
       "      <th>bedroom_number</th>\n",
       "      <th>bedroom_str</th>\n",
       "    </tr>\n",
       "  </thead>\n",
       "  <tbody>\n",
       "    <tr>\n",
       "      <th>0</th>\n",
       "      <td>2</td>\n",
       "      <td>NaN</td>\n",
       "      <td>NaN</td>\n",
       "    </tr>\n",
       "    <tr>\n",
       "      <th>2</th>\n",
       "      <td>2</td>\n",
       "      <td>NaN</td>\n",
       "      <td>NaN</td>\n",
       "    </tr>\n",
       "    <tr>\n",
       "      <th>4</th>\n",
       "      <td>nan</td>\n",
       "      <td>1</td>\n",
       "      <td>NaN</td>\n",
       "    </tr>\n",
       "    <tr>\n",
       "      <th>5</th>\n",
       "      <td>nan</td>\n",
       "      <td>NaN</td>\n",
       "      <td>2.0</td>\n",
       "    </tr>\n",
       "    <tr>\n",
       "      <th>6</th>\n",
       "      <td>nan</td>\n",
       "      <td>NaN</td>\n",
       "      <td>2.0</td>\n",
       "    </tr>\n",
       "    <tr>\n",
       "      <th>...</th>\n",
       "      <td>...</td>\n",
       "      <td>...</td>\n",
       "      <td>...</td>\n",
       "    </tr>\n",
       "    <tr>\n",
       "      <th>121210</th>\n",
       "      <td>nan</td>\n",
       "      <td>2</td>\n",
       "      <td>NaN</td>\n",
       "    </tr>\n",
       "    <tr>\n",
       "      <th>121214</th>\n",
       "      <td>nan</td>\n",
       "      <td>NaN</td>\n",
       "      <td>NaN</td>\n",
       "    </tr>\n",
       "    <tr>\n",
       "      <th>121215</th>\n",
       "      <td>nan</td>\n",
       "      <td>2</td>\n",
       "      <td>NaN</td>\n",
       "    </tr>\n",
       "    <tr>\n",
       "      <th>121217</th>\n",
       "      <td>nan</td>\n",
       "      <td>NaN</td>\n",
       "      <td>NaN</td>\n",
       "    </tr>\n",
       "    <tr>\n",
       "      <th>121218</th>\n",
       "      <td>2</td>\n",
       "      <td>NaN</td>\n",
       "      <td>NaN</td>\n",
       "    </tr>\n",
       "  </tbody>\n",
       "</table>\n",
       "<p>34118 rows × 3 columns</p>\n",
       "</div>"
      ],
      "text/plain": [
       "       rooms bedroom_number  bedroom_str\n",
       "0          2            NaN          NaN\n",
       "2          2            NaN          NaN\n",
       "4        nan              1          NaN\n",
       "5        nan            NaN          2.0\n",
       "6        nan            NaN          2.0\n",
       "...      ...            ...          ...\n",
       "121210   nan              2          NaN\n",
       "121214   nan            NaN          NaN\n",
       "121215   nan              2          NaN\n",
       "121217   nan            NaN          NaN\n",
       "121218     2            NaN          NaN\n",
       "\n",
       "[34118 rows x 3 columns]"
      ]
     },
     "execution_count": 97,
     "metadata": {},
     "output_type": "execute_result"
    }
   ],
   "source": [
    "data.loc[mask_no_rooms,[\"rooms\",\"bedroom_number\",\"bedroom_str\"]]"
   ]
  },
  {
   "cell_type": "code",
   "execution_count": 98,
   "id": "a2f173a5",
   "metadata": {},
   "outputs": [],
   "source": [
    "data['bedroom_number'].fillna(data['bedroom_str'], axis=0, inplace=True)"
   ]
  },
  {
   "cell_type": "markdown",
   "id": "f40ed639",
   "metadata": {},
   "source": [
    "#### * Keep working on 'rooms' column"
   ]
  },
  {
   "cell_type": "code",
   "execution_count": 99,
   "id": "c7103168",
   "metadata": {},
   "outputs": [],
   "source": [
    "# Clean the column description\n",
    "\n",
    "regex = '[\\\\!\\\\\"\\\\#\\\\$\\\\%\\\\&\\\\\\'\\\\(\\\\)\\\\*\\\\+\\\\,\\\\-\\\\.\\\\/\\\\:\\\\;\\\\<\\\\=\\\\>\\\\?\\\\@\\\\[\\\\\\\\\\\\]\\\\^_\\\\`\\\\{\\\\|\\\\}\\\\~]'\n",
    "pattern = re.compile(regex)\n",
    "data[\"description_clean\"] = data[\"description\"].apply(lambda x: pattern.sub(\"\", x))"
   ]
  },
  {
   "cell_type": "code",
   "execution_count": 100,
   "id": "9c026514",
   "metadata": {},
   "outputs": [],
   "source": [
    "# Let's look for some keywords for the column 'rooms'\n",
    "\n",
    "data[\"kitchen_diningroom\"] = data[\"description_clean\"].str.contains(r'cocina comedor?') #cocina comedor\n",
    "data[\"living_diningroom\"] = data[\"description_clean\"].str.contains(r'living comedor?') #living comedor\n",
    "data[\"kitchen\"] = data[\"description_clean\"].str.contains(r'cocina?') #cocina unica\n",
    "data[\"living\"] = data[\"description_clean\"].str.contains(r'living?') #living unico\n",
    "data[\"diningroom\"] = data[\"description_clean\"].str.contains(r'comedor?') #comedor unico"
   ]
  },
  {
   "cell_type": "code",
   "execution_count": 101,
   "id": "c968aa9f",
   "metadata": {},
   "outputs": [],
   "source": [
    "# Creating dummy variables for the data that we found in 'description'\n",
    "\n",
    "data[\"kitchen_diningroom\"] =  data[\"kitchen_diningroom\"].apply(lambda x: 0 if x == False else 1)\n",
    "data[\"living_diningroom\"] =  data[\"living_diningroom\"].apply(lambda x: 0 if x == False else 1)\n",
    "data[\"kitchen\"] =  data[\"kitchen\"].apply(lambda x: 0 if x == False else 1)\n",
    "data[\"living\"] =  data[\"living\"].apply(lambda x: 0 if x == False else 1)\n",
    "data[\"diningroom\"] =  data[\"diningroom\"].apply(lambda x: 0 if x == False else 1)"
   ]
  },
  {
   "cell_type": "code",
   "execution_count": 102,
   "id": "d5dadb21",
   "metadata": {},
   "outputs": [
    {
     "data": {
      "text/html": [
       "<div>\n",
       "<style scoped>\n",
       "    .dataframe tbody tr th:only-of-type {\n",
       "        vertical-align: middle;\n",
       "    }\n",
       "\n",
       "    .dataframe tbody tr th {\n",
       "        vertical-align: top;\n",
       "    }\n",
       "\n",
       "    .dataframe thead th {\n",
       "        text-align: right;\n",
       "    }\n",
       "</style>\n",
       "<table border=\"1\" class=\"dataframe\">\n",
       "  <thead>\n",
       "    <tr style=\"text-align: right;\">\n",
       "      <th></th>\n",
       "      <th>kitchen_diningroom</th>\n",
       "      <th>living_diningroom</th>\n",
       "      <th>kitchen</th>\n",
       "      <th>living</th>\n",
       "      <th>diningroom</th>\n",
       "    </tr>\n",
       "  </thead>\n",
       "  <tbody>\n",
       "    <tr>\n",
       "      <th>0</th>\n",
       "      <td>0</td>\n",
       "      <td>0</td>\n",
       "      <td>0</td>\n",
       "      <td>0</td>\n",
       "      <td>0</td>\n",
       "    </tr>\n",
       "    <tr>\n",
       "      <th>2</th>\n",
       "      <td>0</td>\n",
       "      <td>0</td>\n",
       "      <td>0</td>\n",
       "      <td>0</td>\n",
       "      <td>0</td>\n",
       "    </tr>\n",
       "    <tr>\n",
       "      <th>4</th>\n",
       "      <td>0</td>\n",
       "      <td>0</td>\n",
       "      <td>0</td>\n",
       "      <td>0</td>\n",
       "      <td>0</td>\n",
       "    </tr>\n",
       "    <tr>\n",
       "      <th>5</th>\n",
       "      <td>1</td>\n",
       "      <td>0</td>\n",
       "      <td>1</td>\n",
       "      <td>1</td>\n",
       "      <td>1</td>\n",
       "    </tr>\n",
       "    <tr>\n",
       "      <th>6</th>\n",
       "      <td>0</td>\n",
       "      <td>0</td>\n",
       "      <td>0</td>\n",
       "      <td>0</td>\n",
       "      <td>0</td>\n",
       "    </tr>\n",
       "    <tr>\n",
       "      <th>...</th>\n",
       "      <td>...</td>\n",
       "      <td>...</td>\n",
       "      <td>...</td>\n",
       "      <td>...</td>\n",
       "      <td>...</td>\n",
       "    </tr>\n",
       "    <tr>\n",
       "      <th>121210</th>\n",
       "      <td>0</td>\n",
       "      <td>1</td>\n",
       "      <td>1</td>\n",
       "      <td>1</td>\n",
       "      <td>1</td>\n",
       "    </tr>\n",
       "    <tr>\n",
       "      <th>121214</th>\n",
       "      <td>0</td>\n",
       "      <td>0</td>\n",
       "      <td>0</td>\n",
       "      <td>0</td>\n",
       "      <td>0</td>\n",
       "    </tr>\n",
       "    <tr>\n",
       "      <th>121215</th>\n",
       "      <td>0</td>\n",
       "      <td>0</td>\n",
       "      <td>0</td>\n",
       "      <td>0</td>\n",
       "      <td>1</td>\n",
       "    </tr>\n",
       "    <tr>\n",
       "      <th>121217</th>\n",
       "      <td>0</td>\n",
       "      <td>0</td>\n",
       "      <td>0</td>\n",
       "      <td>0</td>\n",
       "      <td>0</td>\n",
       "    </tr>\n",
       "    <tr>\n",
       "      <th>121218</th>\n",
       "      <td>0</td>\n",
       "      <td>1</td>\n",
       "      <td>1</td>\n",
       "      <td>1</td>\n",
       "      <td>1</td>\n",
       "    </tr>\n",
       "  </tbody>\n",
       "</table>\n",
       "<p>34118 rows × 5 columns</p>\n",
       "</div>"
      ],
      "text/plain": [
       "        kitchen_diningroom  living_diningroom  kitchen  living  diningroom\n",
       "0                        0                  0        0       0           0\n",
       "2                        0                  0        0       0           0\n",
       "4                        0                  0        0       0           0\n",
       "5                        1                  0        1       1           1\n",
       "6                        0                  0        0       0           0\n",
       "...                    ...                ...      ...     ...         ...\n",
       "121210                   0                  1        1       1           1\n",
       "121214                   0                  0        0       0           0\n",
       "121215                   0                  0        0       0           1\n",
       "121217                   0                  0        0       0           0\n",
       "121218                   0                  1        1       1           1\n",
       "\n",
       "[34118 rows x 5 columns]"
      ]
     },
     "execution_count": 102,
     "metadata": {},
     "output_type": "execute_result"
    }
   ],
   "source": [
    "data.loc[mask_no_rooms,[\"kitchen_diningroom\",\"living_diningroom\", \"kitchen\", \"living\", \"diningroom\"]]"
   ]
  },
  {
   "cell_type": "code",
   "execution_count": 103,
   "id": "84d0a0ec",
   "metadata": {},
   "outputs": [],
   "source": [
    "data[\"kitchen_diningroom\"] = data[\"kitchen_diningroom\"].astype(float)\n",
    "data[\"living_diningroom\"] = data[\"living_diningroom\"].astype(float)\n",
    "data[\"kitchen\"] = data[\"kitchen\"].astype(float)\n",
    "data[\"living\"] = data[\"living\"].astype(float)\n",
    "data[\"diningroom\"] = data[\"diningroom\"].astype(float)"
   ]
  },
  {
   "cell_type": "code",
   "execution_count": 104,
   "id": "172819f7",
   "metadata": {},
   "outputs": [
    {
     "data": {
      "text/html": [
       "<div>\n",
       "<style scoped>\n",
       "    .dataframe tbody tr th:only-of-type {\n",
       "        vertical-align: middle;\n",
       "    }\n",
       "\n",
       "    .dataframe tbody tr th {\n",
       "        vertical-align: top;\n",
       "    }\n",
       "\n",
       "    .dataframe thead th {\n",
       "        text-align: right;\n",
       "    }\n",
       "</style>\n",
       "<table border=\"1\" class=\"dataframe\">\n",
       "  <thead>\n",
       "    <tr style=\"text-align: right;\">\n",
       "      <th></th>\n",
       "      <th>rooms</th>\n",
       "      <th>kitchen_diningroom</th>\n",
       "      <th>living_diningroom</th>\n",
       "      <th>kitchen</th>\n",
       "      <th>living</th>\n",
       "      <th>diningroom</th>\n",
       "      <th>room_total</th>\n",
       "    </tr>\n",
       "  </thead>\n",
       "  <tbody>\n",
       "    <tr>\n",
       "      <th>73422</th>\n",
       "      <td>2</td>\n",
       "      <td>0.0</td>\n",
       "      <td>0.0</td>\n",
       "      <td>0.0</td>\n",
       "      <td>0.0</td>\n",
       "      <td>0.0</td>\n",
       "      <td>0.0</td>\n",
       "    </tr>\n",
       "    <tr>\n",
       "      <th>70012</th>\n",
       "      <td>nan</td>\n",
       "      <td>0.0</td>\n",
       "      <td>0.0</td>\n",
       "      <td>0.0</td>\n",
       "      <td>0.0</td>\n",
       "      <td>1.0</td>\n",
       "      <td>1.0</td>\n",
       "    </tr>\n",
       "    <tr>\n",
       "      <th>80674</th>\n",
       "      <td>1</td>\n",
       "      <td>0.0</td>\n",
       "      <td>0.0</td>\n",
       "      <td>1.0</td>\n",
       "      <td>0.0</td>\n",
       "      <td>0.0</td>\n",
       "      <td>1.0</td>\n",
       "    </tr>\n",
       "    <tr>\n",
       "      <th>58620</th>\n",
       "      <td>2</td>\n",
       "      <td>0.0</td>\n",
       "      <td>0.0</td>\n",
       "      <td>1.0</td>\n",
       "      <td>0.0</td>\n",
       "      <td>0.0</td>\n",
       "      <td>1.0</td>\n",
       "    </tr>\n",
       "    <tr>\n",
       "      <th>70692</th>\n",
       "      <td>nan</td>\n",
       "      <td>0.0</td>\n",
       "      <td>1.0</td>\n",
       "      <td>1.0</td>\n",
       "      <td>1.0</td>\n",
       "      <td>1.0</td>\n",
       "      <td>4.0</td>\n",
       "    </tr>\n",
       "    <tr>\n",
       "      <th>72065</th>\n",
       "      <td>nan</td>\n",
       "      <td>0.0</td>\n",
       "      <td>0.0</td>\n",
       "      <td>0.0</td>\n",
       "      <td>0.0</td>\n",
       "      <td>0.0</td>\n",
       "      <td>0.0</td>\n",
       "    </tr>\n",
       "    <tr>\n",
       "      <th>72147</th>\n",
       "      <td>4</td>\n",
       "      <td>0.0</td>\n",
       "      <td>0.0</td>\n",
       "      <td>0.0</td>\n",
       "      <td>0.0</td>\n",
       "      <td>0.0</td>\n",
       "      <td>0.0</td>\n",
       "    </tr>\n",
       "    <tr>\n",
       "      <th>87931</th>\n",
       "      <td>nan</td>\n",
       "      <td>0.0</td>\n",
       "      <td>1.0</td>\n",
       "      <td>1.0</td>\n",
       "      <td>1.0</td>\n",
       "      <td>1.0</td>\n",
       "      <td>4.0</td>\n",
       "    </tr>\n",
       "    <tr>\n",
       "      <th>72731</th>\n",
       "      <td>nan</td>\n",
       "      <td>0.0</td>\n",
       "      <td>0.0</td>\n",
       "      <td>0.0</td>\n",
       "      <td>0.0</td>\n",
       "      <td>0.0</td>\n",
       "      <td>0.0</td>\n",
       "    </tr>\n",
       "    <tr>\n",
       "      <th>105122</th>\n",
       "      <td>nan</td>\n",
       "      <td>0.0</td>\n",
       "      <td>0.0</td>\n",
       "      <td>0.0</td>\n",
       "      <td>0.0</td>\n",
       "      <td>0.0</td>\n",
       "      <td>0.0</td>\n",
       "    </tr>\n",
       "    <tr>\n",
       "      <th>76381</th>\n",
       "      <td>3</td>\n",
       "      <td>0.0</td>\n",
       "      <td>0.0</td>\n",
       "      <td>0.0</td>\n",
       "      <td>0.0</td>\n",
       "      <td>0.0</td>\n",
       "      <td>0.0</td>\n",
       "    </tr>\n",
       "    <tr>\n",
       "      <th>70685</th>\n",
       "      <td>nan</td>\n",
       "      <td>0.0</td>\n",
       "      <td>0.0</td>\n",
       "      <td>0.0</td>\n",
       "      <td>0.0</td>\n",
       "      <td>0.0</td>\n",
       "      <td>0.0</td>\n",
       "    </tr>\n",
       "    <tr>\n",
       "      <th>95497</th>\n",
       "      <td>3</td>\n",
       "      <td>0.0</td>\n",
       "      <td>0.0</td>\n",
       "      <td>0.0</td>\n",
       "      <td>0.0</td>\n",
       "      <td>0.0</td>\n",
       "      <td>0.0</td>\n",
       "    </tr>\n",
       "    <tr>\n",
       "      <th>107451</th>\n",
       "      <td>nan</td>\n",
       "      <td>0.0</td>\n",
       "      <td>1.0</td>\n",
       "      <td>1.0</td>\n",
       "      <td>1.0</td>\n",
       "      <td>1.0</td>\n",
       "      <td>4.0</td>\n",
       "    </tr>\n",
       "    <tr>\n",
       "      <th>95238</th>\n",
       "      <td>4</td>\n",
       "      <td>0.0</td>\n",
       "      <td>0.0</td>\n",
       "      <td>0.0</td>\n",
       "      <td>0.0</td>\n",
       "      <td>0.0</td>\n",
       "      <td>0.0</td>\n",
       "    </tr>\n",
       "  </tbody>\n",
       "</table>\n",
       "</div>"
      ],
      "text/plain": [
       "       rooms  kitchen_diningroom  living_diningroom  kitchen  living  \\\n",
       "73422      2                 0.0                0.0      0.0     0.0   \n",
       "70012    nan                 0.0                0.0      0.0     0.0   \n",
       "80674      1                 0.0                0.0      1.0     0.0   \n",
       "58620      2                 0.0                0.0      1.0     0.0   \n",
       "70692    nan                 0.0                1.0      1.0     1.0   \n",
       "72065    nan                 0.0                0.0      0.0     0.0   \n",
       "72147      4                 0.0                0.0      0.0     0.0   \n",
       "87931    nan                 0.0                1.0      1.0     1.0   \n",
       "72731    nan                 0.0                0.0      0.0     0.0   \n",
       "105122   nan                 0.0                0.0      0.0     0.0   \n",
       "76381      3                 0.0                0.0      0.0     0.0   \n",
       "70685    nan                 0.0                0.0      0.0     0.0   \n",
       "95497      3                 0.0                0.0      0.0     0.0   \n",
       "107451   nan                 0.0                1.0      1.0     1.0   \n",
       "95238      4                 0.0                0.0      0.0     0.0   \n",
       "\n",
       "        diningroom  room_total  \n",
       "73422          0.0         0.0  \n",
       "70012          1.0         1.0  \n",
       "80674          0.0         1.0  \n",
       "58620          0.0         1.0  \n",
       "70692          1.0         4.0  \n",
       "72065          0.0         0.0  \n",
       "72147          0.0         0.0  \n",
       "87931          1.0         4.0  \n",
       "72731          0.0         0.0  \n",
       "105122         0.0         0.0  \n",
       "76381          0.0         0.0  \n",
       "70685          0.0         0.0  \n",
       "95497          0.0         0.0  \n",
       "107451         1.0         4.0  \n",
       "95238          0.0         0.0  "
      ]
     },
     "execution_count": 104,
     "metadata": {},
     "output_type": "execute_result"
    }
   ],
   "source": [
    "# Let's sum the quantity of rooms and add it to 'room_sum' column\n",
    "\n",
    "columns_list = [\"kitchen_diningroom\", \"living_diningroom\",\"kitchen\", \"living\", \"diningroom\"]\n",
    "columns_list\n",
    "data[\"room_total\"] = data[columns_list].sum(axis=1)\n",
    "data.loc[mask_no_rooms,[\"rooms\",\"kitchen_diningroom\", \"living_diningroom\",\"kitchen\", \"living\", \"diningroom\",\"room_total\"]].sample(15)"
   ]
  },
  {
   "cell_type": "code",
   "execution_count": 105,
   "id": "54844112",
   "metadata": {},
   "outputs": [],
   "source": [
    "# Logical conditions to complete the column 'rooms_total':\n",
    "# For example: Add 1 room if the property hasn't a kitchen  \n",
    "\n",
    "data[\"room_total\"] = data.apply(lambda x: x.room_total + 1 if (x.bedroom_number != 0) and (x.kitchen_diningroom == 0) and (x.kitchen == 0) else x.room_total, axis=1)\n",
    "\n",
    "data[\"room_total\"] = data.apply(lambda x: x.room_total - 1 if (x.bedroom_number != 0) and (x.kitchen_diningroom == 1) and (x.kitchen == 1) else x.room_total, axis=1)\n",
    "\n",
    "data[\"room_total\"] = data.apply(lambda x: x.room_total - 1 if (x.bedroom_number == 0) and (x.living_diningroom == 1) and (x.living == 1) else x.room_total, axis=1)\n",
    "\n",
    "data[\"room_total\"] = data.apply(lambda x: x.room_total - 1 if (x.kitchen_diningroom == 1) and (x.diningroom == 1) else  x.room_total, axis=1)\n",
    "\n",
    "data[\"room_total\"] = data.apply(lambda x: x.room_total - 1 if (x.living_diningroom == 1) and (x.living == 1) else x.room_total, axis=1)"
   ]
  },
  {
   "cell_type": "code",
   "execution_count": 106,
   "id": "c28bae71",
   "metadata": {},
   "outputs": [
    {
     "data": {
      "text/html": [
       "<div>\n",
       "<style scoped>\n",
       "    .dataframe tbody tr th:only-of-type {\n",
       "        vertical-align: middle;\n",
       "    }\n",
       "\n",
       "    .dataframe tbody tr th {\n",
       "        vertical-align: top;\n",
       "    }\n",
       "\n",
       "    .dataframe thead th {\n",
       "        text-align: right;\n",
       "    }\n",
       "</style>\n",
       "<table border=\"1\" class=\"dataframe\">\n",
       "  <thead>\n",
       "    <tr style=\"text-align: right;\">\n",
       "      <th></th>\n",
       "      <th>rooms</th>\n",
       "      <th>room_number_description</th>\n",
       "      <th>kitchen_diningroom</th>\n",
       "      <th>living_diningroom</th>\n",
       "      <th>kitchen</th>\n",
       "      <th>living</th>\n",
       "      <th>diningroom</th>\n",
       "      <th>rooms_total</th>\n",
       "    </tr>\n",
       "  </thead>\n",
       "  <tbody>\n",
       "    <tr>\n",
       "      <th>0</th>\n",
       "      <td>2</td>\n",
       "      <td>2</td>\n",
       "      <td>0.0</td>\n",
       "      <td>0.0</td>\n",
       "      <td>0.0</td>\n",
       "      <td>0.0</td>\n",
       "      <td>0.0</td>\n",
       "      <td>1.0</td>\n",
       "    </tr>\n",
       "    <tr>\n",
       "      <th>2</th>\n",
       "      <td>2</td>\n",
       "      <td>2</td>\n",
       "      <td>0.0</td>\n",
       "      <td>0.0</td>\n",
       "      <td>0.0</td>\n",
       "      <td>0.0</td>\n",
       "      <td>0.0</td>\n",
       "      <td>1.0</td>\n",
       "    </tr>\n",
       "    <tr>\n",
       "      <th>4</th>\n",
       "      <td>nan</td>\n",
       "      <td>NaN</td>\n",
       "      <td>0.0</td>\n",
       "      <td>0.0</td>\n",
       "      <td>0.0</td>\n",
       "      <td>0.0</td>\n",
       "      <td>0.0</td>\n",
       "      <td>1.0</td>\n",
       "    </tr>\n",
       "    <tr>\n",
       "      <th>5</th>\n",
       "      <td>nan</td>\n",
       "      <td>NaN</td>\n",
       "      <td>1.0</td>\n",
       "      <td>0.0</td>\n",
       "      <td>1.0</td>\n",
       "      <td>1.0</td>\n",
       "      <td>1.0</td>\n",
       "      <td>2.0</td>\n",
       "    </tr>\n",
       "    <tr>\n",
       "      <th>6</th>\n",
       "      <td>nan</td>\n",
       "      <td>NaN</td>\n",
       "      <td>0.0</td>\n",
       "      <td>0.0</td>\n",
       "      <td>0.0</td>\n",
       "      <td>0.0</td>\n",
       "      <td>0.0</td>\n",
       "      <td>1.0</td>\n",
       "    </tr>\n",
       "    <tr>\n",
       "      <th>7</th>\n",
       "      <td>1</td>\n",
       "      <td>NaN</td>\n",
       "      <td>0.0</td>\n",
       "      <td>0.0</td>\n",
       "      <td>0.0</td>\n",
       "      <td>0.0</td>\n",
       "      <td>0.0</td>\n",
       "      <td>1.0</td>\n",
       "    </tr>\n",
       "    <tr>\n",
       "      <th>8</th>\n",
       "      <td>2</td>\n",
       "      <td>NaN</td>\n",
       "      <td>0.0</td>\n",
       "      <td>0.0</td>\n",
       "      <td>0.0</td>\n",
       "      <td>0.0</td>\n",
       "      <td>0.0</td>\n",
       "      <td>1.0</td>\n",
       "    </tr>\n",
       "    <tr>\n",
       "      <th>12</th>\n",
       "      <td>2</td>\n",
       "      <td>2</td>\n",
       "      <td>0.0</td>\n",
       "      <td>0.0</td>\n",
       "      <td>0.0</td>\n",
       "      <td>0.0</td>\n",
       "      <td>0.0</td>\n",
       "      <td>1.0</td>\n",
       "    </tr>\n",
       "    <tr>\n",
       "      <th>37</th>\n",
       "      <td>nan</td>\n",
       "      <td>NaN</td>\n",
       "      <td>0.0</td>\n",
       "      <td>0.0</td>\n",
       "      <td>0.0</td>\n",
       "      <td>0.0</td>\n",
       "      <td>1.0</td>\n",
       "      <td>2.0</td>\n",
       "    </tr>\n",
       "    <tr>\n",
       "      <th>39</th>\n",
       "      <td>nan</td>\n",
       "      <td>NaN</td>\n",
       "      <td>0.0</td>\n",
       "      <td>0.0</td>\n",
       "      <td>0.0</td>\n",
       "      <td>0.0</td>\n",
       "      <td>0.0</td>\n",
       "      <td>1.0</td>\n",
       "    </tr>\n",
       "    <tr>\n",
       "      <th>42</th>\n",
       "      <td>nan</td>\n",
       "      <td>NaN</td>\n",
       "      <td>0.0</td>\n",
       "      <td>0.0</td>\n",
       "      <td>1.0</td>\n",
       "      <td>0.0</td>\n",
       "      <td>1.0</td>\n",
       "      <td>2.0</td>\n",
       "    </tr>\n",
       "    <tr>\n",
       "      <th>47</th>\n",
       "      <td>nan</td>\n",
       "      <td>NaN</td>\n",
       "      <td>0.0</td>\n",
       "      <td>0.0</td>\n",
       "      <td>0.0</td>\n",
       "      <td>0.0</td>\n",
       "      <td>0.0</td>\n",
       "      <td>1.0</td>\n",
       "    </tr>\n",
       "    <tr>\n",
       "      <th>57</th>\n",
       "      <td>nan</td>\n",
       "      <td>NaN</td>\n",
       "      <td>0.0</td>\n",
       "      <td>0.0</td>\n",
       "      <td>0.0</td>\n",
       "      <td>0.0</td>\n",
       "      <td>0.0</td>\n",
       "      <td>1.0</td>\n",
       "    </tr>\n",
       "    <tr>\n",
       "      <th>63</th>\n",
       "      <td>nan</td>\n",
       "      <td>NaN</td>\n",
       "      <td>0.0</td>\n",
       "      <td>0.0</td>\n",
       "      <td>0.0</td>\n",
       "      <td>0.0</td>\n",
       "      <td>1.0</td>\n",
       "      <td>2.0</td>\n",
       "    </tr>\n",
       "    <tr>\n",
       "      <th>66</th>\n",
       "      <td>1</td>\n",
       "      <td>NaN</td>\n",
       "      <td>0.0</td>\n",
       "      <td>0.0</td>\n",
       "      <td>0.0</td>\n",
       "      <td>0.0</td>\n",
       "      <td>0.0</td>\n",
       "      <td>1.0</td>\n",
       "    </tr>\n",
       "    <tr>\n",
       "      <th>109</th>\n",
       "      <td>nan</td>\n",
       "      <td>NaN</td>\n",
       "      <td>0.0</td>\n",
       "      <td>1.0</td>\n",
       "      <td>1.0</td>\n",
       "      <td>1.0</td>\n",
       "      <td>1.0</td>\n",
       "      <td>3.0</td>\n",
       "    </tr>\n",
       "    <tr>\n",
       "      <th>111</th>\n",
       "      <td>nan</td>\n",
       "      <td>NaN</td>\n",
       "      <td>0.0</td>\n",
       "      <td>0.0</td>\n",
       "      <td>1.0</td>\n",
       "      <td>1.0</td>\n",
       "      <td>1.0</td>\n",
       "      <td>3.0</td>\n",
       "    </tr>\n",
       "    <tr>\n",
       "      <th>112</th>\n",
       "      <td>nan</td>\n",
       "      <td>NaN</td>\n",
       "      <td>0.0</td>\n",
       "      <td>0.0</td>\n",
       "      <td>1.0</td>\n",
       "      <td>1.0</td>\n",
       "      <td>1.0</td>\n",
       "      <td>3.0</td>\n",
       "    </tr>\n",
       "    <tr>\n",
       "      <th>114</th>\n",
       "      <td>3</td>\n",
       "      <td>3</td>\n",
       "      <td>0.0</td>\n",
       "      <td>0.0</td>\n",
       "      <td>1.0</td>\n",
       "      <td>0.0</td>\n",
       "      <td>1.0</td>\n",
       "      <td>2.0</td>\n",
       "    </tr>\n",
       "    <tr>\n",
       "      <th>120</th>\n",
       "      <td>3</td>\n",
       "      <td>3</td>\n",
       "      <td>0.0</td>\n",
       "      <td>0.0</td>\n",
       "      <td>0.0</td>\n",
       "      <td>0.0</td>\n",
       "      <td>0.0</td>\n",
       "      <td>1.0</td>\n",
       "    </tr>\n",
       "  </tbody>\n",
       "</table>\n",
       "</div>"
      ],
      "text/plain": [
       "    rooms room_number_description  kitchen_diningroom  living_diningroom  \\\n",
       "0       2                       2                 0.0                0.0   \n",
       "2       2                       2                 0.0                0.0   \n",
       "4     nan                     NaN                 0.0                0.0   \n",
       "5     nan                     NaN                 1.0                0.0   \n",
       "6     nan                     NaN                 0.0                0.0   \n",
       "7       1                     NaN                 0.0                0.0   \n",
       "8       2                     NaN                 0.0                0.0   \n",
       "12      2                       2                 0.0                0.0   \n",
       "37    nan                     NaN                 0.0                0.0   \n",
       "39    nan                     NaN                 0.0                0.0   \n",
       "42    nan                     NaN                 0.0                0.0   \n",
       "47    nan                     NaN                 0.0                0.0   \n",
       "57    nan                     NaN                 0.0                0.0   \n",
       "63    nan                     NaN                 0.0                0.0   \n",
       "66      1                     NaN                 0.0                0.0   \n",
       "109   nan                     NaN                 0.0                1.0   \n",
       "111   nan                     NaN                 0.0                0.0   \n",
       "112   nan                     NaN                 0.0                0.0   \n",
       "114     3                       3                 0.0                0.0   \n",
       "120     3                       3                 0.0                0.0   \n",
       "\n",
       "     kitchen  living  diningroom  rooms_total  \n",
       "0        0.0     0.0         0.0          1.0  \n",
       "2        0.0     0.0         0.0          1.0  \n",
       "4        0.0     0.0         0.0          1.0  \n",
       "5        1.0     1.0         1.0          2.0  \n",
       "6        0.0     0.0         0.0          1.0  \n",
       "7        0.0     0.0         0.0          1.0  \n",
       "8        0.0     0.0         0.0          1.0  \n",
       "12       0.0     0.0         0.0          1.0  \n",
       "37       0.0     0.0         1.0          2.0  \n",
       "39       0.0     0.0         0.0          1.0  \n",
       "42       1.0     0.0         1.0          2.0  \n",
       "47       0.0     0.0         0.0          1.0  \n",
       "57       0.0     0.0         0.0          1.0  \n",
       "63       0.0     0.0         1.0          2.0  \n",
       "66       0.0     0.0         0.0          1.0  \n",
       "109      1.0     1.0         1.0          3.0  \n",
       "111      1.0     1.0         1.0          3.0  \n",
       "112      1.0     1.0         1.0          3.0  \n",
       "114      1.0     0.0         1.0          2.0  \n",
       "120      0.0     0.0         0.0          1.0  "
      ]
     },
     "execution_count": 106,
     "metadata": {},
     "output_type": "execute_result"
    }
   ],
   "source": [
    "data[\"rooms_total\"] = data[\"room_total\"].replace(0, np.nan)\n",
    "data.loc[mask_no_rooms,[\"rooms\",\"room_number_description\",\"kitchen_diningroom\",\"living_diningroom\",\"kitchen\",\"living\",\"diningroom\",\"rooms_total\"]].head(20)"
   ]
  },
  {
   "cell_type": "code",
   "execution_count": 107,
   "id": "78def828",
   "metadata": {},
   "outputs": [
    {
     "name": "stdout",
     "output_type": "stream",
     "text": [
      "0\n"
     ]
    }
   ],
   "source": [
    "data[\"rooms\"].fillna(data[\"rooms_total\"], axis=0, inplace=True)\n",
    "\n",
    "print(data[\"rooms\"].isnull().sum())"
   ]
  },
  {
   "cell_type": "code",
   "execution_count": 108,
   "id": "637a5377",
   "metadata": {},
   "outputs": [],
   "source": [
    "data.drop(['operation','bedroom_str','bedroom_number', 'room_str_title', 'room_number_title', 'room_str_description', 'room_number_description', 'kitchen_diningroom', 'room_total', 'rooms_total'], axis=1, inplace = True)"
   ]
  },
  {
   "cell_type": "code",
   "execution_count": 109,
   "id": "30cb913e",
   "metadata": {},
   "outputs": [],
   "source": [
    "# Droping nulls from 'rooms'\n",
    "\n",
    "data = data.dropna(subset = [\"rooms\"])"
   ]
  },
  {
   "cell_type": "code",
   "execution_count": 110,
   "id": "6e9ede4c",
   "metadata": {},
   "outputs": [
    {
     "data": {
      "text/plain": [
       "property_type             0\n",
       "price_aprox_usd        6371\n",
       "rooms                     0\n",
       "bedroom_number        39547\n",
       "description               0\n",
       "title                     0\n",
       "state                     0\n",
       "town                      0\n",
       "extra_info                0\n",
       "surface_covered_m2        0\n",
       "surface_total_m2          0\n",
       "price_usd_per_m2       6371\n",
       "repair                    0\n",
       "pool                      0\n",
       "amenities                 0\n",
       "garage                    0\n",
       "financing                 0\n",
       "description_clean         0\n",
       "living_diningroom         0\n",
       "kitchen                   0\n",
       "living                    0\n",
       "diningroom                0\n",
       "dtype: int64"
      ]
     },
     "execution_count": 110,
     "metadata": {},
     "output_type": "execute_result"
    }
   ],
   "source": [
    "data.isnull().sum()"
   ]
  },
  {
   "cell_type": "markdown",
   "id": "507390d1",
   "metadata": {},
   "source": [
    "# [4 - Outliers](#section_outliers)\n",
    "\n",
    "#### $\\hspace{.5cm}$[4.1 - Analyze outliers 'price_usd_per_m2' column](#seccion_outliers)\n",
    "\n",
    "#### $\\hspace{.5cm}$[4.2 - Drop 'apartment' outliers](#seccion_apartment)\n",
    "\n",
    "#### $\\hspace{.5cm}$[4.3 - Drop 'PH' outliers](#seccion_ph)\n",
    "\n",
    "#### $\\hspace{.5cm}$[4.4 - Drop 'house' outliers](#seccion_house)\n",
    "\n",
    "#### $\\hspace{.5cm}$[4.5 - Drop 'store' outliers](#seccion_store)"
   ]
  },
  {
   "cell_type": "markdown",
   "id": "f1a63007",
   "metadata": {},
   "source": [
    "## [4.1 - Analyze outliers from 'price_usd_per_m2' column](#seccion_outliers)"
   ]
  },
  {
   "cell_type": "code",
   "execution_count": 111,
   "id": "34f2c976",
   "metadata": {},
   "outputs": [
    {
     "data": {
      "text/plain": [
       "apartment    50684\n",
       "house         7210\n",
       "PH            3742\n",
       "store         1623\n",
       "Name: property_type, dtype: int64"
      ]
     },
     "execution_count": 111,
     "metadata": {},
     "output_type": "execute_result"
    }
   ],
   "source": [
    "data['property_type'].value_counts()"
   ]
  },
  {
   "cell_type": "code",
   "execution_count": 112,
   "id": "b9c1bb84",
   "metadata": {},
   "outputs": [],
   "source": [
    "data.drop(data[data['price_usd_per_m2'] > 8000].index, axis=0, inplace=True)"
   ]
  },
  {
   "cell_type": "code",
   "execution_count": 113,
   "id": "f791f4c7",
   "metadata": {},
   "outputs": [
    {
     "data": {
      "text/plain": [
       "<AxesSubplot:xlabel='property_type', ylabel='price_usd_per_m2'>"
      ]
     },
     "execution_count": 113,
     "metadata": {},
     "output_type": "execute_result"
    },
    {
     "data": {
      "image/png": "[encoded data removed]",
      "text/plain": [
       "<Figure size 432x288 with 1 Axes>"
      ]
     },
     "metadata": {
      "needs_background": "light"
     },
     "output_type": "display_data"
    }
   ],
   "source": [
    "sns.violinplot(x='property_type', y='price_usd_per_m2', data=data)"
   ]
  },
  {
   "cell_type": "markdown",
   "id": "f65d9b79",
   "metadata": {},
   "source": [
    "## [4.2 - Drop outliers from 'apartment' property_type](#seccion_ap)"
   ]
  },
  {
   "cell_type": "code",
   "execution_count": 114,
   "id": "638fd89f",
   "metadata": {},
   "outputs": [
    {
     "name": "stdout",
     "output_type": "stream",
     "text": [
      "1025\n"
     ]
    }
   ],
   "source": [
    "# Drop all values above 4500\n",
    "\n",
    "price_apartment_m2_drop = (data['price_usd_per_m2'] > 4500) & (data['property_type'] == 'apartment')\n",
    "data.drop(data.loc[price_apartment_m2_drop].index, axis = 0, inplace=True)\n",
    "\n",
    "print(price_apartment_m2_drop.sum())"
   ]
  },
  {
   "cell_type": "markdown",
   "id": "ba3ca29a",
   "metadata": {},
   "source": [
    "## [4.3 - Drop outliers from 'PH' property_type](#seccion_ph)"
   ]
  },
  {
   "cell_type": "code",
   "execution_count": 115,
   "id": "9171b7c5",
   "metadata": {},
   "outputs": [
    {
     "name": "stdout",
     "output_type": "stream",
     "text": [
      "171\n"
     ]
    }
   ],
   "source": [
    "price_PH_m2_drop = (data['price_usd_per_m2'] > 3000) & (data['property_type'] == 'PH')\n",
    "data.drop(data.loc[price_PH_m2_drop].index, axis=0, inplace=True)\n",
    "\n",
    "print(price_PH_m2_drop.sum())"
   ]
  },
  {
   "cell_type": "markdown",
   "id": "63b54978",
   "metadata": {},
   "source": [
    "## [4.4 - Drop outliers from 'house' property_type](#seccion_house)"
   ]
  },
  {
   "cell_type": "code",
   "execution_count": 116,
   "id": "c8baae9d",
   "metadata": {},
   "outputs": [
    {
     "name": "stdout",
     "output_type": "stream",
     "text": [
      "536\n"
     ]
    }
   ],
   "source": [
    "price_house_m2_drop = (data['price_usd_per_m2'] > 2500) & (data['property_type'] == 'house')\n",
    "data.drop(data.loc[price_house_m2_drop].index, axis=0, inplace=True)\n",
    "\n",
    "print(price_house_m2_drop.sum())"
   ]
  },
  {
   "cell_type": "markdown",
   "id": "e3d3c593",
   "metadata": {},
   "source": [
    "## [4.5 - Drop outliers from 'store' property_type](#seccion_store)"
   ]
  },
  {
   "cell_type": "code",
   "execution_count": 117,
   "id": "ee9c8767",
   "metadata": {},
   "outputs": [
    {
     "name": "stdout",
     "output_type": "stream",
     "text": [
      "55\n"
     ]
    }
   ],
   "source": [
    "price_store_m2_drop = (data['price_usd_per_m2'] > 6000) & (data['property_type'] == 'store')\n",
    "data.drop(data.loc[price_store_m2_drop].index, axis=0, inplace=True)\n",
    "\n",
    "print(price_store_m2_drop.sum())"
   ]
  },
  {
   "cell_type": "code",
   "execution_count": 118,
   "id": "a29a5c18",
   "metadata": {},
   "outputs": [
    {
     "data": {
      "text/plain": [
       "<AxesSubplot:xlabel='property_type', ylabel='price_usd_per_m2'>"
      ]
     },
     "execution_count": 118,
     "metadata": {},
     "output_type": "execute_result"
    },
    {
     "data": {
      "image/png": "[encoded data removed]",
      "text/plain": [
       "<Figure size 720x432 with 1 Axes>"
      ]
     },
     "metadata": {
      "needs_background": "light"
     },
     "output_type": "display_data"
    }
   ],
   "source": [
    "plt.subplots(figsize=(10,6))\n",
    "sns.violinplot(x='property_type', y='price_usd_per_m2', data=data)"
   ]
  },
  {
   "cell_type": "code",
   "execution_count": 119,
   "id": "661e1717",
   "metadata": {},
   "outputs": [
    {
     "data": {
      "text/plain": [
       "<AxesSubplot:xlabel='price_usd_per_m2', ylabel='Count'>"
      ]
     },
     "execution_count": 119,
     "metadata": {},
     "output_type": "execute_result"
    },
    {
     "data": {
      "image/png": "[encoded data removed]",
      "text/plain": [
       "<Figure size 1008x576 with 1 Axes>"
      ]
     },
     "metadata": {
      "needs_background": "light"
     },
     "output_type": "display_data"
    }
   ],
   "source": [
    "plt.subplots(figsize=(14,8))\n",
    "sns.histplot(data['price_usd_per_m2'], color = \"blue\", bins = 150)"
   ]
  },
  {
   "cell_type": "code",
   "execution_count": 120,
   "id": "ceb60d24",
   "metadata": {},
   "outputs": [
    {
     "data": {
      "text/plain": [
       "<AxesSubplot:xlabel='rooms', ylabel='count'>"
      ]
     },
     "execution_count": 120,
     "metadata": {},
     "output_type": "execute_result"
    },
    {
     "data": {
      "image/png": "[encoded data removed]",
      "text/plain": [
       "<Figure size 1152x576 with 1 Axes>"
      ]
     },
     "metadata": {
      "needs_background": "light"
     },
     "output_type": "display_data"
    }
   ],
   "source": [
    "plt.subplots(figsize=(16,8))\n",
    "sns.countplot(x='rooms', hue='property_type', data=data, palette='pastel')"
   ]
  },
  {
   "cell_type": "markdown",
   "id": "eae61a5a",
   "metadata": {},
   "source": [
    "# [5 - Data Final](#section_final)"
   ]
  },
  {
   "cell_type": "markdown",
   "id": "45c0e0b6",
   "metadata": {},
   "source": [
    "#### This is the final dataset, with this dataset we're going to develop our ML Model! :)"
   ]
  },
  {
   "cell_type": "code",
   "execution_count": 122,
   "id": "d5d06792",
   "metadata": {},
   "outputs": [
    {
     "data": {
      "text/html": [
       "<div>\n",
       "<style scoped>\n",
       "    .dataframe tbody tr th:only-of-type {\n",
       "        vertical-align: middle;\n",
       "    }\n",
       "\n",
       "    .dataframe tbody tr th {\n",
       "        vertical-align: top;\n",
       "    }\n",
       "\n",
       "    .dataframe thead th {\n",
       "        text-align: right;\n",
       "    }\n",
       "</style>\n",
       "<table border=\"1\" class=\"dataframe\">\n",
       "  <thead>\n",
       "    <tr style=\"text-align: right;\">\n",
       "      <th></th>\n",
       "      <th>property_type</th>\n",
       "      <th>price_aprox_usd</th>\n",
       "      <th>rooms</th>\n",
       "      <th>bedroom_number</th>\n",
       "      <th>description</th>\n",
       "      <th>title</th>\n",
       "      <th>state</th>\n",
       "      <th>town</th>\n",
       "      <th>extra_info</th>\n",
       "      <th>surface_covered_m2</th>\n",
       "      <th>...</th>\n",
       "      <th>repair</th>\n",
       "      <th>pool</th>\n",
       "      <th>amenities</th>\n",
       "      <th>garage</th>\n",
       "      <th>financing</th>\n",
       "      <th>description_clean</th>\n",
       "      <th>living_diningroom</th>\n",
       "      <th>kitchen</th>\n",
       "      <th>living</th>\n",
       "      <th>diningroom</th>\n",
       "    </tr>\n",
       "  </thead>\n",
       "  <tbody>\n",
       "    <tr>\n",
       "      <th>0</th>\n",
       "      <td>PH</td>\n",
       "      <td>62000.0</td>\n",
       "      <td>2</td>\n",
       "      <td>NaN</td>\n",
       "      <td>2 AMBIENTES TIPO CASA PLANTA BAJA POR PASILLO,...</td>\n",
       "      <td>2 AMB TIPO CASA SIN EXPENSAS EN PB</td>\n",
       "      <td>Capital Federal</td>\n",
       "      <td>Mataderos</td>\n",
       "      <td></td>\n",
       "      <td>40.0</td>\n",
       "      <td>...</td>\n",
       "      <td>1</td>\n",
       "      <td>0</td>\n",
       "      <td>0</td>\n",
       "      <td>0</td>\n",
       "      <td>1</td>\n",
       "      <td>2 AMBIENTES TIPO CASA PLANTA BAJA POR PASILLO ...</td>\n",
       "      <td>0.0</td>\n",
       "      <td>0.0</td>\n",
       "      <td>0.0</td>\n",
       "      <td>0.0</td>\n",
       "    </tr>\n",
       "    <tr>\n",
       "      <th>2</th>\n",
       "      <td>apartment</td>\n",
       "      <td>72000.0</td>\n",
       "      <td>2</td>\n",
       "      <td>NaN</td>\n",
       "      <td>2 AMBIENTES 3ER PISO LATERAL LIVING COMEDOR AM...</td>\n",
       "      <td>2 AMB 3ER PISO CON ASCENSOR APTO CREDITO</td>\n",
       "      <td>Capital Federal</td>\n",
       "      <td>Mataderos</td>\n",
       "      <td></td>\n",
       "      <td>55.0</td>\n",
       "      <td>...</td>\n",
       "      <td>0</td>\n",
       "      <td>0</td>\n",
       "      <td>0</td>\n",
       "      <td>0</td>\n",
       "      <td>0</td>\n",
       "      <td>2 AMBIENTES 3ER PISO LATERAL LIVING COMEDOR AM...</td>\n",
       "      <td>0.0</td>\n",
       "      <td>0.0</td>\n",
       "      <td>0.0</td>\n",
       "      <td>0.0</td>\n",
       "    </tr>\n",
       "    <tr>\n",
       "      <th>4</th>\n",
       "      <td>apartment</td>\n",
       "      <td>64000.0</td>\n",
       "      <td>nan</td>\n",
       "      <td>1</td>\n",
       "      <td>DEPARTAMENTO CON FANTÁSTICA ILUMINACIÓN NATURA...</td>\n",
       "      <td>DEPTO 2 AMB AL CONTRAFRENTE ZONA CENTRO/PLAZA ...</td>\n",
       "      <td>Buenos Aires Costa Atlántica</td>\n",
       "      <td>Mar del Plata</td>\n",
       "      <td>Centro|</td>\n",
       "      <td>35.0</td>\n",
       "      <td>...</td>\n",
       "      <td>0</td>\n",
       "      <td>0</td>\n",
       "      <td>0</td>\n",
       "      <td>0</td>\n",
       "      <td>0</td>\n",
       "      <td>DEPARTAMENTO CON FANTÁSTICA ILUMINACIÓN NATURA...</td>\n",
       "      <td>0.0</td>\n",
       "      <td>0.0</td>\n",
       "      <td>0.0</td>\n",
       "      <td>0.0</td>\n",
       "    </tr>\n",
       "  </tbody>\n",
       "</table>\n",
       "<p>3 rows × 22 columns</p>\n",
       "</div>"
      ],
      "text/plain": [
       "  property_type  price_aprox_usd rooms bedroom_number  \\\n",
       "0            PH          62000.0     2            NaN   \n",
       "2     apartment          72000.0     2            NaN   \n",
       "4     apartment          64000.0   nan              1   \n",
       "\n",
       "                                         description  \\\n",
       "0  2 AMBIENTES TIPO CASA PLANTA BAJA POR PASILLO,...   \n",
       "2  2 AMBIENTES 3ER PISO LATERAL LIVING COMEDOR AM...   \n",
       "4  DEPARTAMENTO CON FANTÁSTICA ILUMINACIÓN NATURA...   \n",
       "\n",
       "                                               title  \\\n",
       "0                 2 AMB TIPO CASA SIN EXPENSAS EN PB   \n",
       "2           2 AMB 3ER PISO CON ASCENSOR APTO CREDITO   \n",
       "4  DEPTO 2 AMB AL CONTRAFRENTE ZONA CENTRO/PLAZA ...   \n",
       "\n",
       "                          state           town extra_info  surface_covered_m2  \\\n",
       "0               Capital Federal      Mataderos                           40.0   \n",
       "2               Capital Federal      Mataderos                           55.0   \n",
       "4  Buenos Aires Costa Atlántica  Mar del Plata    Centro|                35.0   \n",
       "\n",
       "   ...  repair  pool  amenities  garage  financing  \\\n",
       "0  ...       1     0          0       0          1   \n",
       "2  ...       0     0          0       0          0   \n",
       "4  ...       0     0          0       0          0   \n",
       "\n",
       "                                   description_clean  living_diningroom  \\\n",
       "0  2 AMBIENTES TIPO CASA PLANTA BAJA POR PASILLO ...                0.0   \n",
       "2  2 AMBIENTES 3ER PISO LATERAL LIVING COMEDOR AM...                0.0   \n",
       "4  DEPARTAMENTO CON FANTÁSTICA ILUMINACIÓN NATURA...                0.0   \n",
       "\n",
       "  kitchen  living  diningroom  \n",
       "0     0.0     0.0         0.0  \n",
       "2     0.0     0.0         0.0  \n",
       "4     0.0     0.0         0.0  \n",
       "\n",
       "[3 rows x 22 columns]"
      ]
     },
     "execution_count": 122,
     "metadata": {},
     "output_type": "execute_result"
    }
   ],
   "source": [
    "data.head(3)"
   ]
  },
  {
   "cell_type": "code",
   "execution_count": 123,
   "id": "6afd0d26",
   "metadata": {},
   "outputs": [
    {
     "data": {
      "text/plain": [
       "(59907, 22)"
      ]
     },
     "execution_count": 123,
     "metadata": {},
     "output_type": "execute_result"
    }
   ],
   "source": [
    "data.shape"
   ]
  },
  {
   "cell_type": "code",
   "execution_count": null,
   "id": "093f2f09",
   "metadata": {},
   "outputs": [],
   "source": []
  }
 ],
 "metadata": {
  "kernelspec": {
   "display_name": "Python [conda env:dhdsblend2021] *",
   "language": "python",
   "name": "conda-env-dhdsblend2021-py"
  },
  "language_info": {
   "codemirror_mode": {
    "name": "ipython",
    "version": 3
   },
   "file_extension": ".py",
   "mimetype": "text/x-python",
   "name": "python",
   "nbconvert_exporter": "python",
   "pygments_lexer": "ipython3",
   "version": "3.8.11"
  }
 },
 "nbformat": 4,
 "nbformat_minor": 5
}
